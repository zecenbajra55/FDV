{
 "cells": [
  {
   "cell_type": "code",
   "execution_count": 2,
   "id": "dda9a1b1",
   "metadata": {},
   "outputs": [],
   "source": [
    "import pandas as pd"
   ]
  },
  {
   "cell_type": "code",
   "execution_count": 3,
   "id": "1ab55021-7fe8-4ae1-8302-5185038e4c0c",
   "metadata": {},
   "outputs": [],
   "source": [
    "df = pd.read_csv('Nepali_Dataset_New.csv',encoding ='utf-8')"
   ]
  },
  {
   "cell_type": "code",
   "execution_count": 4,
   "id": "4f620036-d6da-4943-8b82-945f700252d3",
   "metadata": {},
   "outputs": [
    {
     "data": {
      "text/html": [
       "<div>\n",
       "<style scoped>\n",
       "    .dataframe tbody tr th:only-of-type {\n",
       "        vertical-align: middle;\n",
       "    }\n",
       "\n",
       "    .dataframe tbody tr th {\n",
       "        vertical-align: top;\n",
       "    }\n",
       "\n",
       "    .dataframe thead th {\n",
       "        text-align: right;\n",
       "    }\n",
       "</style>\n",
       "<table border=\"1\" class=\"dataframe\">\n",
       "  <thead>\n",
       "    <tr style=\"text-align: right;\">\n",
       "      <th></th>\n",
       "      <th>News</th>\n",
       "      <th>Category</th>\n",
       "    </tr>\n",
       "  </thead>\n",
       "  <tbody>\n",
       "    <tr>\n",
       "      <th>0</th>\n",
       "      <td>\\n﻿काठमाण्डौ, ६ असार । नेपाल ललितकला प्रज्ञा प...</td>\n",
       "      <td>politics</td>\n",
       "    </tr>\n",
       "    <tr>\n",
       "      <th>1</th>\n",
       "      <td>नेपालको आशा जीवितैकप्तान पारस खड्काले ब्याट र ...</td>\n",
       "      <td>sport</td>\n",
       "    </tr>\n",
       "    <tr>\n",
       "      <th>2</th>\n",
       "      <td>\\n﻿राजविराज, २६ फागुन । नेकपा एमालेलाई औद्योगि...</td>\n",
       "      <td>politics</td>\n",
       "    </tr>\n",
       "    <tr>\n",
       "      <th>3</th>\n",
       "      <td>सामाजिक कार्यका लागि सुन्दरी\"\\nसौन्दर्य प्रतिय...</td>\n",
       "      <td>entertainment</td>\n",
       "    </tr>\n",
       "    <tr>\n",
       "      <th>4</th>\n",
       "      <td>खराब प्रदर्शनपछि प्रशिक्षण पिच\"महिला राष्ट्रिय...</td>\n",
       "      <td>sport</td>\n",
       "    </tr>\n",
       "  </tbody>\n",
       "</table>\n",
       "</div>"
      ],
      "text/plain": [
       "                                                News       Category\n",
       "0  \\n﻿काठमाण्डौ, ६ असार । नेपाल ललितकला प्रज्ञा प...       politics\n",
       "1  नेपालको आशा जीवितैकप्तान पारस खड्काले ब्याट र ...          sport\n",
       "2  \\n﻿राजविराज, २६ फागुन । नेकपा एमालेलाई औद्योगि...       politics\n",
       "3  सामाजिक कार्यका लागि सुन्दरी\"\\nसौन्दर्य प्रतिय...  entertainment\n",
       "4  खराब प्रदर्शनपछि प्रशिक्षण पिच\"महिला राष्ट्रिय...          sport"
      ]
     },
     "execution_count": 4,
     "metadata": {},
     "output_type": "execute_result"
    }
   ],
   "source": [
    "df.head()"
   ]
  },
  {
   "cell_type": "code",
   "execution_count": 5,
   "id": "58c0d0bb-f2fb-49d3-b380-dc27e9d18d5e",
   "metadata": {},
   "outputs": [
    {
     "name": "stdout",
     "output_type": "stream",
     "text": [
      "<class 'pandas.core.frame.DataFrame'>\n",
      "RangeIndex: 4540 entries, 0 to 4539\n",
      "Data columns (total 2 columns):\n",
      " #   Column    Non-Null Count  Dtype \n",
      "---  ------    --------------  ----- \n",
      " 0   News      4540 non-null   object\n",
      " 1   Category  4540 non-null   object\n",
      "dtypes: object(2)\n",
      "memory usage: 71.1+ KB\n"
     ]
    }
   ],
   "source": [
    "df.info()"
   ]
  },
  {
   "cell_type": "code",
   "execution_count": 6,
   "id": "24c8be96-e20d-477f-a2ac-b0d20285c8dd",
   "metadata": {},
   "outputs": [
    {
     "data": {
      "text/plain": [
       "News        0\n",
       "Category    0\n",
       "dtype: int64"
      ]
     },
     "execution_count": 6,
     "metadata": {},
     "output_type": "execute_result"
    }
   ],
   "source": [
    "df.isna().sum()"
   ]
  },
  {
   "cell_type": "code",
   "execution_count": 7,
   "id": "04c704ae-8cb3-4d95-a974-d82e98a8b7ed",
   "metadata": {},
   "outputs": [
    {
     "data": {
      "text/plain": [
       "4"
      ]
     },
     "execution_count": 7,
     "metadata": {},
     "output_type": "execute_result"
    }
   ],
   "source": [
    "df.duplicated().sum()"
   ]
  },
  {
   "cell_type": "code",
   "execution_count": 8,
   "id": "7eafa520-9af6-48d7-bfe8-e1073b71af9c",
   "metadata": {},
   "outputs": [],
   "source": [
    "df=df.drop_duplicates()\n",
    "df.reset_index(drop=True, inplace=True)"
   ]
  },
  {
   "cell_type": "code",
   "execution_count": 9,
   "id": "0b4a3b10-2d05-4ae3-a02f-4e2e4790d89e",
   "metadata": {},
   "outputs": [
    {
     "data": {
      "text/plain": [
       "0"
      ]
     },
     "execution_count": 9,
     "metadata": {},
     "output_type": "execute_result"
    }
   ],
   "source": [
    "df.duplicated().sum()"
   ]
  },
  {
   "cell_type": "code",
   "execution_count": 10,
   "id": "64c9e911-9fcd-4086-96d7-cba84438e3b6",
   "metadata": {
    "scrolled": true
   },
   "outputs": [
    {
     "data": {
      "text/plain": [
       "array(['politics', 'sport', 'entertainment', 'tech', 'business'],\n",
       "      dtype=object)"
      ]
     },
     "execution_count": 10,
     "metadata": {},
     "output_type": "execute_result"
    }
   ],
   "source": [
    "df['Category'].unique()"
   ]
  },
  {
   "cell_type": "code",
   "execution_count": 11,
   "id": "ad8191f4-e410-4bff-a6df-591d7a20c1a3",
   "metadata": {},
   "outputs": [],
   "source": [
    "y= df['Category']"
   ]
  },
  {
   "cell_type": "code",
   "execution_count": 12,
   "id": "d07a05d8-5c1f-46ba-b417-c922ed231ef3",
   "metadata": {},
   "outputs": [
    {
     "name": "stdout",
     "output_type": "stream",
     "text": [
      "Categories before label encoding in y:\n",
      "{'tech', 'business', 'entertainment', 'politics', 'sport'}\n",
      "Categories after label encoding in y:\n",
      "{0, 1, 2, 3, 4}\n"
     ]
    }
   ],
   "source": [
    "from sklearn.preprocessing import LabelEncoder\n",
    "\n",
    "# Initialize LabelEncoder\n",
    "label_encoder = LabelEncoder()\n",
    "\n",
    "print(\"Categories before label encoding in y:\")\n",
    "print(set(y))\n",
    "\n",
    "# Encode the categorical labels into numerical format\n",
    "y = label_encoder.fit_transform(y)\n",
    "\n",
    "print(\"Categories after label encoding in y:\")\n",
    "print(set(y))"
   ]
  },
  {
   "cell_type": "code",
   "execution_count": 13,
   "id": "527ff5f0-ecbb-467e-940f-beaacf883ed7",
   "metadata": {},
   "outputs": [],
   "source": [
    "import re\n",
    " \n",
    "def clean_text(string):\n",
    "    if isinstance(string, str):\n",
    "        clean_text = re.sub(r'[\\n,|।\\'\":]', '', string)\n",
    "        return clean_text\n",
    "    else:\n",
    "        return string # Return the input unchanged if it's not a string"
   ]
  },
  {
   "cell_type": "code",
   "execution_count": 14,
   "id": "1ea94598-1e69-452c-b2f5-606f3191fc4a",
   "metadata": {},
   "outputs": [],
   "source": [
    "df['News'] = df['News'].apply(clean_text)"
   ]
  },
  {
   "cell_type": "code",
   "execution_count": 15,
   "id": "eef1342b-f439-4ac5-8db6-0ae13bf141fb",
   "metadata": {},
   "outputs": [],
   "source": [
    "import snowballstemmer\n",
    "import nltk\n",
    "from nltk.tokenize import word_tokenize\n",
    "from nltk.corpus import stopwords\n",
    "\n",
    "# Assuming 'nepali' has stop words list\n",
    "stop_words = set(stopwords.words('nepali'))  \n",
    "\n",
    "# Create an instance of the Stem class\n",
    "# stemmer = Stem()\n",
    "stemmer = snowballstemmer.NepaliStemmer()\n",
    "\n",
    "def tokenize_and_stem(text):\n",
    "    if isinstance(text, str):\n",
    "        tokens = word_tokenize(text)\n",
    "        tokens = [word for word in tokens if word not in stop_words]\n",
    "        stemmed = stemmer.stemWords(tokens)\n",
    "\n",
    "        return ' '.join(stemmed)\n",
    "    else:\n",
    "        return []\n",
    "\n",
    "# Applying the tokenization and stemming function to each element in DataFrame 'X'\n",
    "X = df['News'].apply(lambda x: tokenize_and_stem(x))"
   ]
  },
  {
   "cell_type": "code",
   "execution_count": 16,
   "id": "2d6205c4-8781-4191-96ca-0e854038d8f1",
   "metadata": {},
   "outputs": [
    {
     "name": "stdout",
     "output_type": "stream",
     "text": [
      "{'भए', 'धेरै', 'चाहनुहुन्छ', 'पर्याप्त', 'पहिले', 'दोस्रो', 'यसरी', 'हरे', 'सट्टा', 'गर्छ', 'शायद', 'अर्थात', 'बारे', 'अन्यथा', 'जो', 'ओठ', 'यदि', 'कसै', 'अगाडी', 'पक्का', 'तेस्कारण', 'यथोचित', 'यसबाहेक', 'भन्छु', 'देखेर', 'प्रति', 'दिए', 'भन्', 'पछि', 'पाँच', 'भन्छन्', 'अन्यत्र', 'हुन्', 'जताततै', 'नै', 'साथ', 'छन्', 'गर्दै', 'अनुसार', 'आयो', 'किनभने', 'अन्तर्गत', 'भित्री', 'बीचमा', 'वरीपरी', 'गर्ने', 'त्यो', 'साँच्चै', 'बिशेष', 'कृपया', 'पर्थ्यो', 'चाले', 'सात', 'गर्छु', 'कुरा', 'ती', 'अझै', 'जहाँ', 'सधै', 'तीन', 'छैन', 'गर्न', 'कहाँबाट', 'कोही', 'भन्नुभयो', 'साथै', 'ले', 'गैर', 'तेस्रो', 'छ', 'गरेर', 'लागि', 'आत्म', 'चाहन्छु', 'थिएन', 'यद्यपि', 'वास्तवमा', 'देखि', 'हुने', 'तत्काल', 'नत्र', 'छु', 'यसपछि', 'एक', 'अन्य', 'बीच', 'पटक', 'समय', 'उहालाई', 'तिर', 'ठीक', 'हुन्छ', 'जसमा', 'रूप', 'यति', 'त', 'के', 'जबकि', 'राख्छ', 'नजिकै', 'गयौ', 'सक्छ', 'यसो', 'तर', 'त्यहाँ', 'आफूलाई', 'त्सपछि', 'नि', 'कतै', 'जब', 'मा', 'को', 'हुन', 'पहिल्यै', 'देखे', 'अलग', 'पनि', 'आफ्नै', 'तिनीहरुको', 'हरेक', 'नौ', 'राम्रो', 'मुख्य', 'आफू', 'पहिलो', 'जान', 'तापनी', 'का', 'जे', 'अर्थात्', 'बाहिर', 'अब', 'तदनुसार', 'संग', 'कसरी', 'प्लस', 'एउटै', 'बरु', 'अर्को', 'केही', 'भन्ने', 'रहेको', 'रहेका', 'उनको', 'गए', 'तिनी', 'सही', 'गरि', 'अरुलाई', 'दिनुभएको', 'तिनिहरुलाई', 'आजको', 'गरेको', 'देखिन्छ', 'पक्कै', 'मात्र', 'उदाहरण', 'गरौं', 'जस्तोसुकै', 'पछिल्लो', 'स्पष्ट', 'आफ्नो', 'संगै', 'छौं', 'देखेको', 'जसको', 'या', 'रही', 'भन्दा', 'बिरुद्ध', 'उप', 'कुनै', 'न', 'सो', 'जुन', 'अक्सर', 'चाहिए', 'त्सैले', 'चार', 'थियो', 'औं', 'भएको', 'फेरी', 'तुरुन्तै', 'भर', 'गर्नुपर्छ', 'तपाईको', 'भित्र', 'माथि', 'सबैलाई', 'एकदम', 'राखे', 'क्रमशः', 'गरी', 'किन', 'पूर्व', 'दुई', 'सायद', 'सबै', 'प्रतेक', 'नयाँ', 'सोही', 'जस्तो', 'सम्म', 'जसले', 'यसको', 'भने', 'गरेका', 'यस', 'आए', 'र', 'जाहिर', 'लाई', 'यी', 'देखियो', 'निर्दिष्ट', 'भन', 'सारा', 'यो', 'आदि', 'बाहेक', 'बने', 'हो', 'तथा', 'तिनीहरू', 'सम्भव', 'निम्ति', 'पर्छ', 'मलाई', 'म', 'कि', 'जसलाई', 'छू', 'तपाई', 'मेरो', 'अरु', 'तल', 'निम्नानुसार', 'कम से कम', 'जसबाट', 'निम्न', 'यहाँ', 'कसैले', 'कहिलेकाहीं', 'तिमी', 'यहाँसम्म', 'लगभग', 'जस्तै', 'यस्तो', 'दिनुहुन्छ', 'उनले', 'गर्नु', 'पाँचौं', 'थिए'}\n"
     ]
    }
   ],
   "source": [
    "print(stop_words)"
   ]
  },
  {
   "cell_type": "code",
   "execution_count": 17,
   "id": "e174e7ff-d170-455c-91d1-ec81ffae9194",
   "metadata": {},
   "outputs": [
    {
     "data": {
      "text/plain": [
       "0    ﻿काठमाण्डौ ६ असार नेपाल ललितकला प्रज्ञा प्रतिष...\n",
       "1    नेपाल आशा जीवितैकप्तान पारस खड्का ब्याट शक्ति ...\n",
       "2    ﻿राजविराज २६ फागुन नेकपा एमाले औद्योगिक क्षेत्...\n",
       "3    सामाजिक कार्य सुन्दरीसौन्दर्य प्रतियोगिता दौड ...\n",
       "4    खराब प्रदर्शन प्रशिक्षण पिचमहिला राष्ट्रिय यू ...\n",
       "Name: News, dtype: object"
      ]
     },
     "execution_count": 17,
     "metadata": {},
     "output_type": "execute_result"
    }
   ],
   "source": [
    "X.head()"
   ]
  },
  {
   "cell_type": "code",
   "execution_count": 18,
   "id": "d4469d0d-3211-4617-8c2d-6a8e0ce310f0",
   "metadata": {},
   "outputs": [
    {
     "data": {
      "text/plain": [
       "array([['\\ufeffराजविराज ४ माघ  नेपाली काँग्रेस क्षेत्रीय कार्य समिति क्षेत्र नम्वर–४ को आयोजनामा विहीवार सप्तरीको नर्घो गाविस स्थित झहुरा चौकमा विशाल जनसभमा आयोजना हुने भएको छ नेपाली काँग्रेसका केन्द्रीय सदस्य समेत रहेका उप–प्रधान एवं गृहमन्त्री विमलेन्द्र निधीको प्रमुख आतिथ्यमा कार्यक्रम आयोजना हुने भएको हो  उक्त सभालाई सम्वोधन गर्न नेपाली काँग्रेसका केन्द्रीय सदस्य एवं सामान्य प्रशासन केशव कुमार बुढाथोकी नेपाली काँग्रेसका केन्द्रीय सदस्य एवं पूर्व मन्त्री बल बहादुर केसी नेपाली काँग्रेसका केन्द्रीय सदस्य एवं पूर्व मन्त्री एवम् सांसद फरमुल्ला मन्सुर नेपाली काँग्रेसका केन्द्रीय सदस्य समेत रहेका सांसद महेन्द्र यादव सांसद अमरेश कुमार सिंह तथा नेपाली काँग्रेस सप्तरी सभापति एवं पूर्व जिविस सभापति दिनेश कुमार यादवलगायतका वक्ताहरुले सम्वोधन गर्ने कार्यक्रम रहेको छ मङ्गलवार सभापति यादवले पत्रकारहरुसँग कुराकानी गर्दै उक्त ऐतिहासिक सभालाई सफल पार्न सम्वद्ध सबैपक्षसँग आग्रह गरेका छन्  विशाल जनसभाको सम्पूर्ण तयारी भईसकेको सभापति यादवले जानकारी दिएका छन् ',\n",
       "        'politics']], dtype=object)"
      ]
     },
     "execution_count": 18,
     "metadata": {},
     "output_type": "execute_result"
    }
   ],
   "source": [
    "df.sample(1).values"
   ]
  },
  {
   "cell_type": "code",
   "execution_count": 19,
   "id": "8997b26a-376d-46a9-95b2-f36d01556062",
   "metadata": {},
   "outputs": [
    {
     "name": "stdout",
     "output_type": "stream",
     "text": [
      "<class 'pandas.core.series.Series'>\n",
      "RangeIndex: 4536 entries, 0 to 4535\n",
      "Series name: News\n",
      "Non-Null Count  Dtype \n",
      "--------------  ----- \n",
      "4536 non-null   object\n",
      "dtypes: object(1)\n",
      "memory usage: 35.6+ KB\n"
     ]
    }
   ],
   "source": [
    "X.info()"
   ]
  },
  {
   "cell_type": "code",
   "execution_count": 20,
   "id": "14b2d061-59b5-4f31-8f6b-f0b2646ca951",
   "metadata": {},
   "outputs": [],
   "source": [
    "vocab_size=50000\n",
    "max_len=200"
   ]
  },
  {
   "cell_type": "code",
   "execution_count": 21,
   "id": "d4885aca-a27b-4f60-b7ad-dde417ab8444",
   "metadata": {},
   "outputs": [
    {
     "name": "stdout",
     "output_type": "stream",
     "text": [
      "Number of unique tokens: 71157\n",
      "max_length:  2774\n"
     ]
    }
   ],
   "source": [
    "# Tokenization and vectorization\n",
    "from tensorflow.keras.preprocessing.text import Tokenizer\n",
    "from tensorflow.keras.preprocessing.sequence import pad_sequences\n",
    "\n",
    "tokenizer = Tokenizer(num_words=vocab_size, oov_token='<OOV>')\n",
    "tok=tokenizer.fit_on_texts(X)\n",
    "word_index = tokenizer.word_index\n",
    "print(\"Number of unique tokens:\", len(word_index))\n",
    "\n",
    "sequences = tokenizer.texts_to_sequences(X)\n",
    "max_length = max(len(seq) for seq in sequences)\n",
    "print('max_length: ', max_length)\n",
    "padded_sequences = pad_sequences(sequences, maxlen=max_len, truncating='post')"
   ]
  },
  {
   "cell_type": "code",
   "execution_count": 22,
   "id": "0c93f8f4-5764-46dc-88a7-77255dcb9af8",
   "metadata": {},
   "outputs": [],
   "source": [
    "import pickle\n",
    "with open('tokenizer.pickle', 'wb') as handle:\n",
    "    pickle.dump(tok, handle, protocol=pickle.HIGHEST_PROTOCOL)"
   ]
  },
  {
   "cell_type": "code",
   "execution_count": 23,
   "id": "278a6601-c14a-4ddb-ae30-f0d5eff4eb1c",
   "metadata": {},
   "outputs": [
    {
     "data": {
      "text/plain": [
       "array([[    0,     0,     0, ...,    26,   920,  1751],\n",
       "       [    2,   777, 34388, ...,   468,   189,  1489],\n",
       "       [    0,     0,     0, ..., 24315, 34402,  1075],\n",
       "       ...,\n",
       "       [  210,  5156,  7768, ...,    34,   210,    33],\n",
       "       [    0,     0,     0, ...,  2671,   257,   142],\n",
       "       [  561,    41,   194, ...,   194,   899,   131]])"
      ]
     },
     "execution_count": 23,
     "metadata": {},
     "output_type": "execute_result"
    }
   ],
   "source": [
    "padded_sequences\n"
   ]
  },
  {
   "cell_type": "code",
   "execution_count": 24,
   "id": "248ccdc9-d2fe-4d99-9951-b517f33ab8c2",
   "metadata": {},
   "outputs": [],
   "source": [
    "# corpus=[]"
   ]
  },
  {
   "cell_type": "code",
   "execution_count": 25,
   "id": "5811793c-d77f-4fc0-9405-fd7b62e02e78",
   "metadata": {},
   "outputs": [],
   "source": [
    "# for i in range(0,len(X)):\n",
    "#     review = re.sub(r'[\\n,|।\\'\":]', ' ', X['News'][i])\n",
    "#     stop_words = set(stopwords.words('nepali'))\n",
    "#     review= [word for word in word_tokenize(review) if word not in stop_words]\n",
    "#     review = ' '.join(review)\n",
    "#     corpus.append(review)"
   ]
  },
  {
   "cell_type": "code",
   "execution_count": 26,
   "id": "a32725b6-ce75-4b90-92ac-2c3ecdda26cd",
   "metadata": {},
   "outputs": [],
   "source": [
    "# corpus"
   ]
  },
  {
   "cell_type": "code",
   "execution_count": 27,
   "id": "41aabfbc-63f2-40ca-a88a-954abaf40ca9",
   "metadata": {},
   "outputs": [],
   "source": [
    "# from tensorflow.keras.preprocessing.text import one_hot\n",
    "# onehot_repr = [one_hot(words,voc_size)for words in corpus]\n",
    "# onehot_repr"
   ]
  },
  {
   "cell_type": "code",
   "execution_count": 28,
   "id": "714f91e1-fa63-4549-8195-813b986560dd",
   "metadata": {},
   "outputs": [],
   "source": [
    "# embedded_docs[0]"
   ]
  },
  {
   "cell_type": "code",
   "execution_count": 29,
   "id": "73bd0491-4b06-46c5-9667-31d5e4090be3",
   "metadata": {},
   "outputs": [],
   "source": [
    "from sklearn.model_selection import train_test_split\n",
    "X_train, X_test, y_train, y_test = train_test_split(padded_sequences, y, test_size=0.2, random_state=42)"
   ]
  },
  {
   "cell_type": "code",
   "execution_count": 30,
   "id": "d62f6d89-3391-4e11-bdd0-d150283cb5f1",
   "metadata": {},
   "outputs": [
    {
     "data": {
      "text/plain": [
       "(3628, 200)"
      ]
     },
     "execution_count": 30,
     "metadata": {},
     "output_type": "execute_result"
    }
   ],
   "source": [
    "X_train.shape"
   ]
  },
  {
   "cell_type": "code",
   "execution_count": 31,
   "id": "39296c88-2ee2-4d1a-96e0-67270dd904b3",
   "metadata": {},
   "outputs": [
    {
     "name": "stdout",
     "output_type": "stream",
     "text": [
      "Model: \"sequential\"\n",
      "_________________________________________________________________\n",
      "Layer (type)                 Output Shape              Param #   \n",
      "=================================================================\n",
      "embedding (Embedding)        (None, 200, 150)          7500000   \n",
      "_________________________________________________________________\n",
      "simple_rnn (SimpleRNN)       (None, 64)                13760     \n",
      "_________________________________________________________________\n",
      "dense (Dense)                (None, 32)                2080      \n",
      "_________________________________________________________________\n",
      "dense_1 (Dense)              (None, 5)                 165       \n",
      "=================================================================\n",
      "Total params: 7,516,005\n",
      "Trainable params: 7,516,005\n",
      "Non-trainable params: 0\n",
      "_________________________________________________________________\n",
      "None\n",
      "Epoch 1/20\n",
      "57/57 [==============================] - 28s 391ms/step - loss: 1.4769 - accuracy: 0.3197 - val_loss: 1.4204 - val_accuracy: 0.3822\n",
      "Epoch 2/20\n",
      "57/57 [==============================] - 23s 402ms/step - loss: 0.9094 - accuracy: 0.6938 - val_loss: 0.8350 - val_accuracy: 0.6454\n",
      "Epoch 3/20\n",
      "57/57 [==============================] - 21s 377ms/step - loss: 0.3128 - accuracy: 0.9474 - val_loss: 0.4869 - val_accuracy: 0.8150\n",
      "Epoch 4/20\n",
      "57/57 [==============================] - 22s 387ms/step - loss: 0.0427 - accuracy: 0.9970 - val_loss: 0.4424 - val_accuracy: 0.8260\n",
      "Epoch 5/20\n",
      "57/57 [==============================] - 22s 386ms/step - loss: 0.0112 - accuracy: 0.9992 - val_loss: 0.4248 - val_accuracy: 0.8337\n",
      "Epoch 6/20\n",
      "57/57 [==============================] - 22s 388ms/step - loss: 0.0062 - accuracy: 0.9994 - val_loss: 0.4764 - val_accuracy: 0.8128\n",
      "Epoch 7/20\n",
      "57/57 [==============================] - 22s 386ms/step - loss: 0.0043 - accuracy: 0.9997 - val_loss: 0.4647 - val_accuracy: 0.8282\n",
      "Epoch 8/20\n",
      "57/57 [==============================] - 22s 386ms/step - loss: 0.0030 - accuracy: 0.9997 - val_loss: 0.4856 - val_accuracy: 0.8194\n"
     ]
    },
    {
     "data": {
      "text/plain": [
       "<keras.callbacks.History at 0x2411b701ca0>"
      ]
     },
     "execution_count": 31,
     "metadata": {},
     "output_type": "execute_result"
    }
   ],
   "source": [
    "from keras.layers import SimpleRNN\n",
    "from tensorflow.keras.models import Sequential\n",
    "from tensorflow.keras.layers import Embedding, SimpleRNN, LSTM, GRU, Dense\n",
    "from tensorflow.keras.layers import SimpleRNN, Dense, Embedding, Dropout\n",
    "from tensorflow.keras.callbacks import EarlyStopping\n",
    "\n",
    "embedding_dim=150\n",
    "\n",
    "# Model\n",
    "model_simple_rnn = Sequential([\n",
    "    Embedding(vocab_size, embedding_dim, input_length=max_len),\n",
    "    SimpleRNN(64),  # Simple RNN layer\n",
    "    Dense(32, activation='relu'),\n",
    "    Dense(5, activation='softmax')\n",
    "])\n",
    "\n",
    "model_simple_rnn.compile(optimizer='adam', loss='sparse_categorical_crossentropy', metrics=['accuracy'])\n",
    "print(model_simple_rnn.summary())\n",
    "\n",
    "early_stopping = EarlyStopping(monitor='val_loss', patience=3, restore_best_weights=True)\n",
    "model_simple_rnn.fit(X_train, y_train, epochs=20, verbose=1, batch_size=64, validation_data=(X_test, y_test), callbacks=[early_stopping])"
   ]
  },
  {
   "cell_type": "code",
   "execution_count": 32,
   "id": "e866c7dc-50af-4b03-870b-135037ec3cfa",
   "metadata": {},
   "outputs": [
    {
     "name": "stdout",
     "output_type": "stream",
     "text": [
      "29/29 [==============================] - 1s 51ms/step - loss: 0.4248 - accuracy: 0.8337\n",
      "Loss: 0.42477938532829285, Accuracy: 0.83370041847229\n"
     ]
    }
   ],
   "source": [
    "# Evaluate the model\n",
    "loss, accuracy = model_simple_rnn.evaluate(X_test,y_test)\n",
    "print(f'Loss: {loss}, Accuracy: {accuracy}')"
   ]
  },
  {
   "cell_type": "code",
   "execution_count": 33,
   "id": "a33e704c-cf67-4b54-8604-757e0c6b51b9",
   "metadata": {},
   "outputs": [
    {
     "data": {
      "image/png": "[encoded data removed]",
      "text/plain": [
       "<Figure size 1000x800 with 2 Axes>"
      ]
     },
     "metadata": {},
     "output_type": "display_data"
    }
   ],
   "source": [
    "import numpy as np\n",
    "import seaborn as sns\n",
    "import matplotlib.pyplot as plt\n",
    "from sklearn.metrics import confusion_matrix\n",
    "\n",
    "# Define custom labels\n",
    "labels = ['business',  'entertainment', 'politics','sport', 'tech']\n",
    "\n",
    "# Make predictions\n",
    "y_pred = model_simple_rnn.predict(X_test)\n",
    "\n",
    "# Convert predicted probabilities to class labels\n",
    "y_pred_labels = np.argmax(y_pred, axis=1)\n",
    "\n",
    "# Compute confusion matrix\n",
    "conf_matrix = confusion_matrix(y_test, y_pred_labels)\n",
    "\n",
    "# Plot confusion matrix as heatmap\n",
    "plt.figure(figsize=(10, 8))\n",
    "sns.heatmap(conf_matrix, annot=True, fmt='d', cmap='Blues', xticklabels=labels, yticklabels=labels)\n",
    "plt.xlabel('Predicted Labels')\n",
    "plt.ylabel('True Labels')\n",
    "plt.title('Confusion Matrix')\n",
    "plt.show()"
   ]
  },
  {
   "cell_type": "code",
   "execution_count": 34,
   "id": "41b5bbe8-7df1-4ed4-9b85-0421068f4e64",
   "metadata": {},
   "outputs": [
    {
     "name": "stdout",
     "output_type": "stream",
     "text": [
      "Model saved successfully.\n"
     ]
    }
   ],
   "source": [
    "import os\n",
    "from tensorflow.keras.models import load_model\n",
    "\n",
    "# Specify the file name for the model\n",
    "model_filename = 'model_rnn.h5'\n",
    "\n",
    "# Get the current working directory\n",
    "current_dir = os.getcwd()\n",
    "\n",
    "# Construct the full file path\n",
    "model_path = os.path.join(current_dir, model_filename)\n",
    "\n",
    "# Save the model\n",
    "model_simple_rnn.save(model_path)\n",
    "\n",
    "print(\"Model saved successfully.\")"
   ]
  },
  {
   "cell_type": "code",
   "execution_count": 35,
   "id": "58685098-0538-4feb-bd76-0d319a186fbc",
   "metadata": {},
   "outputs": [
    {
     "name": "stdout",
     "output_type": "stream",
     "text": [
      "Model: \"sequential_1\"\n",
      "_________________________________________________________________\n",
      "Layer (type)                 Output Shape              Param #   \n",
      "=================================================================\n",
      "embedding_1 (Embedding)      (None, 200, 150)          7500000   \n",
      "_________________________________________________________________\n",
      "gru (GRU)                    (None, 64)                41472     \n",
      "_________________________________________________________________\n",
      "dense_2 (Dense)              (None, 64)                4160      \n",
      "_________________________________________________________________\n",
      "dense_3 (Dense)              (None, 5)                 325       \n",
      "=================================================================\n",
      "Total params: 7,545,957\n",
      "Trainable params: 7,545,957\n",
      "Non-trainable params: 0\n",
      "_________________________________________________________________\n",
      "None\n",
      "Epoch 1/20\n",
      "57/57 [==============================] - 9s 42ms/step - loss: 1.4753 - accuracy: 0.3374 - val_loss: 1.1923 - val_accuracy: 0.6178\n",
      "Epoch 2/20\n",
      "57/57 [==============================] - 2s 29ms/step - loss: 0.7058 - accuracy: 0.8137 - val_loss: 0.4423 - val_accuracy: 0.8722\n",
      "Epoch 3/20\n",
      "57/57 [==============================] - 2s 29ms/step - loss: 0.1165 - accuracy: 0.9691 - val_loss: 0.3106 - val_accuracy: 0.8998\n",
      "Epoch 4/20\n",
      "57/57 [==============================] - 2s 30ms/step - loss: 0.0225 - accuracy: 0.9950 - val_loss: 0.2823 - val_accuracy: 0.9130\n",
      "Epoch 5/20\n",
      "57/57 [==============================] - 2s 33ms/step - loss: 0.0086 - accuracy: 0.9986 - val_loss: 0.3010 - val_accuracy: 0.9174\n",
      "Epoch 6/20\n",
      "57/57 [==============================] - 2s 33ms/step - loss: 0.0040 - accuracy: 0.9992 - val_loss: 0.3133 - val_accuracy: 0.9207\n",
      "Epoch 7/20\n",
      "57/57 [==============================] - 2s 35ms/step - loss: 0.0034 - accuracy: 0.9994 - val_loss: 0.3340 - val_accuracy: 0.9152\n",
      "29/29 [==============================] - 0s 12ms/step - loss: 0.2823 - accuracy: 0.9130\n",
      "Loss: 0.28233373165130615, Accuracy: 0.9129955768585205\n"
     ]
    }
   ],
   "source": [
    "from keras.layers import GRU\n",
    "# Model\n",
    "model_gru = Sequential([\n",
    "    Embedding(vocab_size, embedding_dim, input_length=max_len),\n",
    "    GRU(64),  # GRU layer\n",
    "    Dense(64, activation='relu'),\n",
    "    Dense(5, activation='softmax')\n",
    "])\n",
    "\n",
    "model_gru.compile(optimizer='adam', loss='sparse_categorical_crossentropy', metrics=['accuracy'])\n",
    "print(model_gru.summary())\n",
    "\n",
    "early_stopping = EarlyStopping(monitor='val_loss', patience=3, restore_best_weights=True)\n",
    "model_gru.fit(X_train, y_train, epochs=20, verbose=1, batch_size=64, validation_data=(X_test, y_test), callbacks=[early_stopping])\n",
    "\n",
    "# Evaluate the model\n",
    "loss, accuracy = model_gru.evaluate(X_test, y_test)\n",
    "print(f'Loss: {loss}, Accuracy: {accuracy}')\n"
   ]
  },
  {
   "cell_type": "code",
   "execution_count": 36,
   "id": "f22aff79-ec44-403c-a49d-a1176e9ecd46",
   "metadata": {},
   "outputs": [
    {
     "data": {
      "image/png": "[encoded data removed]",
      "text/plain": [
       "<Figure size 1000x800 with 2 Axes>"
      ]
     },
     "metadata": {},
     "output_type": "display_data"
    }
   ],
   "source": [
    "y_pred = model_gru.predict(X_test)\n",
    "\n",
    "# Convert predicted probabilities to class labels\n",
    "y_pred_labels = np.argmax(y_pred, axis=1)\n",
    "\n",
    "# Compute confusion matrix\n",
    "conf_matrix = confusion_matrix(y_test, y_pred_labels)\n",
    "\n",
    "# Plot confusion matrix as heatmap\n",
    "plt.figure(figsize=(10, 8))\n",
    "sns.heatmap(conf_matrix, annot=True, fmt='d', cmap='Blues', xticklabels=labels, yticklabels=labels)\n",
    "plt.xlabel('Predicted Labels')\n",
    "plt.ylabel('True Labels')\n",
    "plt.title('Confusion Matrix')\n",
    "plt.show()"
   ]
  },
  {
   "cell_type": "code",
   "execution_count": 37,
   "id": "87c05721-e4d6-472b-b622-c94dd613a5da",
   "metadata": {},
   "outputs": [
    {
     "name": "stdout",
     "output_type": "stream",
     "text": [
      "Model saved successfully.\n"
     ]
    }
   ],
   "source": [
    "import os\n",
    "from tensorflow.keras.models import load_model\n",
    "\n",
    "# Specify the file name for the model\n",
    "model_filename = 'model_gru.h5'\n",
    "\n",
    "# Get the current working directory\n",
    "current_dir = os.getcwd()\n",
    "\n",
    "# Construct the full file path\n",
    "model_path = os.path.join(current_dir, model_filename)\n",
    "\n",
    "# Save the model\n",
    "model_gru.save(model_path)\n",
    "\n",
    "print(\"Model saved successfully.\")"
   ]
  },
  {
   "cell_type": "code",
   "execution_count": 38,
   "id": "37de9abf-6a78-48a1-902c-417ce2a8e6b8",
   "metadata": {},
   "outputs": [
    {
     "name": "stdout",
     "output_type": "stream",
     "text": [
      "Model: \"sequential_2\"\n",
      "_________________________________________________________________\n",
      "Layer (type)                 Output Shape              Param #   \n",
      "=================================================================\n",
      "embedding_2 (Embedding)      (None, 200, 150)          7500000   \n",
      "_________________________________________________________________\n",
      "lstm (LSTM)                  (None, 64)                55040     \n",
      "_________________________________________________________________\n",
      "dense_4 (Dense)              (None, 64)                4160      \n",
      "_________________________________________________________________\n",
      "dense_5 (Dense)              (None, 5)                 325       \n",
      "=================================================================\n",
      "Total params: 7,559,525\n",
      "Trainable params: 7,559,525\n",
      "Non-trainable params: 0\n",
      "_________________________________________________________________\n",
      "None\n",
      "Epoch 1/20\n",
      "57/57 [==============================] - 6s 49ms/step - loss: 1.3718 - accuracy: 0.3738 - val_loss: 1.1409 - val_accuracy: 0.5474\n",
      "Epoch 2/20\n",
      "57/57 [==============================] - 2s 33ms/step - loss: 0.8061 - accuracy: 0.7530 - val_loss: 0.3422 - val_accuracy: 0.9009\n",
      "Epoch 3/20\n",
      "57/57 [==============================] - 2s 35ms/step - loss: 0.1522 - accuracy: 0.9567 - val_loss: 0.2553 - val_accuracy: 0.9185\n",
      "Epoch 4/20\n",
      "57/57 [==============================] - 2s 35ms/step - loss: 0.0517 - accuracy: 0.9876 - val_loss: 0.1970 - val_accuracy: 0.9460\n",
      "Epoch 5/20\n",
      "57/57 [==============================] - 2s 33ms/step - loss: 0.0302 - accuracy: 0.9920 - val_loss: 0.2185 - val_accuracy: 0.9361\n",
      "Epoch 6/20\n",
      "57/57 [==============================] - 2s 34ms/step - loss: 0.0132 - accuracy: 0.9972 - val_loss: 0.2015 - val_accuracy: 0.9449\n",
      "Epoch 7/20\n",
      "57/57 [==============================] - 2s 34ms/step - loss: 0.0070 - accuracy: 0.9981 - val_loss: 0.1931 - val_accuracy: 0.9471\n",
      "Epoch 8/20\n",
      "57/57 [==============================] - 2s 35ms/step - loss: 0.0035 - accuracy: 0.9992 - val_loss: 0.2573 - val_accuracy: 0.9350\n",
      "Epoch 9/20\n",
      "57/57 [==============================] - 2s 35ms/step - loss: 0.0228 - accuracy: 0.9945 - val_loss: 0.2371 - val_accuracy: 0.9328\n",
      "Epoch 10/20\n",
      "57/57 [==============================] - 2s 35ms/step - loss: 0.0051 - accuracy: 0.9992 - val_loss: 0.2267 - val_accuracy: 0.9394\n",
      "29/29 [==============================] - 0s 13ms/step - loss: 0.1931 - accuracy: 0.9471\n",
      "Loss: 0.19313853979110718, Accuracy: 0.9471365809440613\n"
     ]
    }
   ],
   "source": [
    "from tensorflow.keras.layers import LSTM\n",
    "\n",
    "# Model\n",
    "model_lstm = Sequential([\n",
    "    Embedding(vocab_size, embedding_dim, input_length=max_len),\n",
    "    LSTM(64),  # LSTM layer\n",
    "    Dense(64, activation='relu'),\n",
    "    Dense(5, activation='softmax')\n",
    "])\n",
    "\n",
    "model_lstm.compile(optimizer='adam', loss='sparse_categorical_crossentropy', metrics=['accuracy'])\n",
    "print(model_lstm.summary())\n",
    "\n",
    "early_stopping = EarlyStopping(monitor='val_loss', patience=3, restore_best_weights=True)\n",
    "model_lstm.fit(X_train, y_train, epochs=20, verbose=1, batch_size=64, validation_data=(X_test, y_test), callbacks=[early_stopping])\n",
    "\n",
    "# Evaluate the model\n",
    "loss, accuracy = model_lstm.evaluate(X_test, y_test)\n",
    "print(f'Loss: {loss}, Accuracy: {accuracy}')\n"
   ]
  },
  {
   "cell_type": "code",
   "execution_count": 39,
   "id": "4043ea8a-f507-461b-9ab7-d3a5d187df2b",
   "metadata": {},
   "outputs": [
    {
     "data": {
      "image/png": "[encoded data removed]",
      "text/plain": [
       "<Figure size 1000x800 with 2 Axes>"
      ]
     },
     "metadata": {},
     "output_type": "display_data"
    }
   ],
   "source": [
    "y_pred = model_lstm.predict(X_test)\n",
    "\n",
    "# Convert predicted probabilities to class labels\n",
    "y_pred_labels = np.argmax(y_pred, axis=1)\n",
    "\n",
    "# Compute confusion matrix\n",
    "conf_matrix = confusion_matrix(y_test, y_pred_labels)\n",
    "\n",
    "# Plot confusion matrix as heatmap\n",
    "plt.figure(figsize=(10, 8))\n",
    "sns.heatmap(conf_matrix, annot=True, fmt='d', cmap='Blues', xticklabels=labels, yticklabels=labels)\n",
    "plt.xlabel('Predicted Labels')\n",
    "plt.ylabel('True Labels')\n",
    "plt.title('Confusion Matrix')\n",
    "plt.show()"
   ]
  },
  {
   "cell_type": "code",
   "execution_count": 40,
   "id": "fe980684-3b5b-47ee-84c3-a6c888799681",
   "metadata": {},
   "outputs": [
    {
     "name": "stdout",
     "output_type": "stream",
     "text": [
      "Model saved successfully.\n"
     ]
    }
   ],
   "source": [
    "import os\n",
    "from tensorflow.keras.models import load_model\n",
    "\n",
    "# Specify the file name for the model\n",
    "model_filename = 'model_lstm.h5'\n",
    "\n",
    "# Get the current working directory\n",
    "current_dir = os.getcwd()\n",
    "\n",
    "# Construct the full file path\n",
    "model_path = os.path.join(current_dir, model_filename)\n",
    "\n",
    "# Save the model\n",
    "model_lstm.save(model_path)\n",
    "\n",
    "print(\"Model saved successfully.\")"
   ]
  },
  {
   "cell_type": "code",
   "execution_count": 41,
   "id": "0ec7d2d2-821a-40f4-85f0-877a58a23497",
   "metadata": {},
   "outputs": [],
   "source": [
    "# import re\n",
    " \n",
    "# def clean_text(string):\n",
    "#     if isinstance(string, str):\n",
    "#         clean_text = re.sub(r'[\\n,|।\\'\":]', '', string)\n",
    "#         return clean_text\n",
    "#     else:\n",
    "#         return string # Return the input unchanged if it's not a string\n",
    "\n",
    "# import snowballstemmer\n",
    "# import nltk\n",
    "# from nltk.tokenize import word_tokenize\n",
    "# from nltk.corpus import stopwords\n",
    "\n",
    "# # Assuming 'nepali' has stop words list\n",
    "# stop_words = set(stopwords.words('nepali'))  \n",
    "\n",
    "# # Create an instance of the Stem class\n",
    "# # stemmer = Stem()\n",
    "# stemmer = snowballstemmer.NepaliStemmer()\n",
    "\n",
    "# def tokenize_and_stem(text):\n",
    "#     if isinstance(text, str):\n",
    "#         tokens = word_tokenize(text)\n",
    "#         tokens = [word for word in tokens if word not in stop_words]\n",
    "#         stemmed = stemmer.stemWords(tokens)\n",
    "\n",
    "#         return ' '.join(stemmed)\n",
    "#     else:\n",
    "#         return []\n",
    "\n",
    "# # Applying the tokenization and stemming function to each element in DataFrame 'X'\n",
    "# X = df['News'].apply(lambda x: tokenize_and_stem(x))\n",
    "\n",
    "# tokenizer = Tokenizer(num_words=vocab_size, oov_token='<OOV>')\n",
    "# tokenizer.fit_on_texts(X)\n",
    "# word_index = tokenizer.word_index\n",
    "\n",
    "# sequences = tokenizer.texts_to_sequences(X)\n",
    "# max_length = max(len(seq) for seq in sequences)\n",
    "# print('max_length: ', max_length)\n",
    "# padded_sequences = pad_sequences(sequences, maxlen=max_len, truncating='post')"
   ]
  },
  {
   "cell_type": "code",
   "execution_count": 124,
   "id": "67b53274-5216-4587-931f-262dfd94b50a",
   "metadata": {},
   "outputs": [],
   "source": [
    "text ='''काठमाडौँ, वैशाख २० गते । राष्ट्रपति रामचन्द्र पौडेलले सङ्घीय संसदको दुबै सदनको अधिवेशन आह्वान गर्नुभएको छ । राष्ट्रपति पौडेलले  वैशाख २८ गते शुक्रबार दिउँसो दुई बजे बस्ने गरी अधिवेशन आह्वान गर्नुभएको राष्ट्रपति कार्यालयद्वारा बिहीबार जारी विज्ञप्तिमा उल्लेख छ । “नेपालको संविधानको धारा ९३ (१) बमोजिम नेपाल सरकार मन्त्रिपरिषद्को वैशाख २० गते (आज) को सिफारिसमा वैशाख २८ गते शुक्रबारका दिन २ बजे अन्तर्राष्ट्रिय सम्मेलन केन्द्र नयाँ बानेश्वरमा सङ्घीय संसदको दुबै सदनको अधिवेशन आह्वान गर्नुभएको छ”,  राष्ट्रपति कार्यालयका प्रवक्ता शैलजा रेग्मी भट्टराईद्वारा हस्ताक्षरित विज्ञप्तिमा जनाइएको छ ।'''\n",
    "text_df = pd.Series(text)"
   ]
  },
  {
   "cell_type": "code",
   "execution_count": 125,
   "id": "caa3f272-43a0-40b8-963e-055e113d148e",
   "metadata": {},
   "outputs": [
    {
     "name": "stdout",
     "output_type": "stream",
     "text": [
      "max_length:  75\n"
     ]
    }
   ],
   "source": [
    "text_df=text_df.apply(clean_text)\n",
    "X = text_df.apply(lambda x: tokenize_and_stem(x))\n",
    "\n",
    "word_index = tokenizer.word_index\n",
    "\n",
    "sequences = tokenizer.texts_to_sequences(X)\n",
    "max_length = max(len(seq) for seq in sequences)\n",
    "print('max_length: ', max_length)\n",
    "padded_sequences = pad_sequences(sequences, maxlen=max_len, truncating='post')"
   ]
  },
  {
   "cell_type": "code",
   "execution_count": 126,
   "id": "a5101370-fe36-491a-8980-1613323e564a",
   "metadata": {},
   "outputs": [
    {
     "name": "stdout",
     "output_type": "stream",
     "text": [
      "[[1.6839598e-01 3.4402797e-03 8.0108386e-01 2.2508105e-04 2.6854765e-02]]\n",
      "politics\n"
     ]
    }
   ],
   "source": [
    "prediction = model_simple_rnn.predict(padded_sequences)\n",
    "labels = ['business',  'entertainment', 'politics','sport', 'tech']\n",
    "print(prediction)\n",
    "print(labels[np.argmax(prediction)])"
   ]
  },
  {
   "cell_type": "code",
   "execution_count": 127,
   "id": "49567f5a-85cf-420b-81cc-321b2d375e77",
   "metadata": {},
   "outputs": [
    {
     "name": "stdout",
     "output_type": "stream",
     "text": [
      "[[0.045101   0.00213264 0.94929385 0.00168855 0.00178393]]\n",
      "politics\n"
     ]
    }
   ],
   "source": [
    "prediction = model_gru.predict(padded_sequences)\n",
    "labels = ['business',  'entertainment', 'politics','sport', 'tech']\n",
    "print(prediction)\n",
    "print(labels[np.argmax(prediction)])"
   ]
  },
  {
   "cell_type": "code",
   "execution_count": 128,
   "id": "4877d2d1-4424-4bf4-81ca-a873ce299b78",
   "metadata": {},
   "outputs": [
    {
     "name": "stdout",
     "output_type": "stream",
     "text": [
      "[[8.9023113e-03 1.8815232e-04 9.8987281e-01 3.5070881e-04 6.8608735e-04]]\n",
      "politics\n"
     ]
    }
   ],
   "source": [
    "prediction = model_lstm.predict(padded_sequences)\n",
    "labels = ['business',  'entertainment', 'politics','sport', 'tech']\n",
    "print(prediction)\n",
    "print(labels[np.argmax(prediction)])"
   ]
  },
  {
   "cell_type": "code",
   "execution_count": 46,
   "id": "f8bace59-317d-41d9-92a0-a8a38c5428b6",
   "metadata": {},
   "outputs": [
    {
     "data": {
      "text/plain": [
       "array([['तेज विनायकको जितकोकाकोला अन्तरविद्यालय राष्ट्रिय छात्रछात्रा फुटबलअन्तर्गत छात्रतर्फको छनोट चरणमा आइतबार तेज विनायक उच्चमाविले जित हात पारेको छ  उसले गोल्डेन फ्युचर उच्चमाविलाई  ले पराजित गर्\\u200dयो  तेज विनायकका लागि सुमन विक र सुदीप वाइवाले गोल गरेका थिए \\tकोकाकोला अन्तरविद्यालय राष्ट्रिय छात्रछात्रा फुटबलअन्तर्गत छात्रतर्फको छनोट चरणमा आइतबार तेज विनायक उच्चमाविले जित हात पारेको छ  उसले गोल्डेन फ्युचर उच्चमाविलाई  ले पराजित गर्यो  तेज विनायकका लागि सुमन विक र सुदीप वाइवाले गोल गरेका थिए  \\tअर्को खेलमा मनोहर उच्चमाविले श्री महांकाल जनजागृत माविलाई  ले पराजित गर्यो  मनोहरका लागि अमर तामाङले ह्याटि्रक गरेका थिए भने महांकालका लागि नवराज मैनालीले सान्त्वना गोल गरे  अर्को खेलमा सहयोगी माविले टंगाल माविलाई  ले हरायो  सहयोगीका लागि राजेन्द्र लामा र अशोक माटेले गोल गरे  डायमण्ड सेकेन्डरी स्कुलले विद्योदय इङलिस स्कुललाई  ले हरायो  विजयी टिमका रोशन ठकुरीले दुई गोल गरे भने अन्य गोल कुशल राई कृष्ण थापा र विश्वराज भण्डारीको नाममा रह्यो   \\t ',\n",
       "        'sport'],\n",
       "       ['स्वाद फेर्ने प्रयासयतिबेला नेपाली फिल्म मझधारमा छ  अनावश्यक रूपमा आवश्यक मानिएको फाइट अनि गीतनृत्यको फर्मुलाको मोह पनि नहटेको र मेकिङको भरपर्दो नयाँ शैली पनि भित्रिइनसकेको अवस्था  \\tयतिबेला नेपाली फिल्म मझधारमा छ  अनावश्यक रूपमा आवश्यक मानिएको फाइट अनि गीतनृत्यको फर्मुलाको मोह पनि नहटेको र मेकिङको भरपर्दो नयाँ शैली पनि भित्रिइनसकेको अवस्था  फिल्मको मेकिङ मात्रै नभई यसका दर्शकको स्वादमा पनि यतिबेला संक्रमणको अवस्था छ  पुरानो स्वादले मिचिएको र नयाँ स्वादको बानी परिनसकेको अवस्थामा प्रयोगवादी केही फिल्मले पनि हावा खाइरहेका छन्   \\tशुक्रबारदेखि प्रदर्शनमा आएको सुदर्शन थापा निर्देशित फिल्म धन्दा ले पनि यतिबेला प्रयोग गरिरहेको छ  वैदेशिक रोजगारका नाममा म्यानपावर कम्पनी खोलेर बसेका केही दलालबाट धोका पाएपछि उत्पन्न तनावमा फिल्म केन्दि्रत छ  मायाप्रीतिको रसिलो कथाबाट टाढा हटेर मेरो एउटा साथी छ का निर्देशक थापाले नीरस धन्दा कथामा जोखिम मोलेका हुन्  गाउँको स्कुलमा खेलकुद शिक्ष्ाकका रूपमा अस्थायी नियुक्ति पाएको अर्जुन अर्पण भर्खरभर्खर बिहे गरेकी पत्नीबाट सुन्दर भविष्य बनाउने सोचमा छ  बच्चाको तस्बिरले नै पनि उसलाई छुट्टै रोमाञ्चकता दिन थालेको छ  तर महँगिँदै गएको बजारसँग तलब समायोजन हुन नसकेपछि रोमाञ्चकतालाई अन्योलताले किच्दै लगेको छ  उपाय एउटै निकाल्छ वैदेशिक रोजगार  अमेरिका उडाइदिने आफन्तको प्रलोभनमा परी घर धितो राखेर निकालेको नौ लाख रुपैयाँ फसाउँछ  धन्न दलालबाट बालबाल ज्यान बचाउँछ तर उही ज्यान लिने काममा लाग्छ  फिल्मको स्त्रिप्ट अर्पणले नै तयार पारेका हुन्  \\tधन्दा को स्त्रिप्ट साधारण हो  तर फिल्म फरक कथा प्रस्तुतीकरण मेकअप र गतिलो अभिनय नै दर्शकलाई बाँध्ने हतियार हुन्  गम्भीर दुर्घटनामा परी टाउकोमा रगत जमेपछि अर्जुन कुनै पनि बेला मानसिक सन्तुलन गुमाउने अवस्थामा छ  तर बदलाभावले ऊ अस्पतालबाट भाग्छ  पूरा फिल्म अर्जुनले लिएको बदला र त्योसँगै जोडिँदै आउने अतीतको सम्झनामा अघि बढेको छ  अतीत र वर्तमानको दृश्य समायोजन पनि फिल्मको सकारात्मक पक्ष हो  शरीरैभरि टाँका लगाइएका घाउ बोकेर अर्पणले बिना बोलीको संवादलाई निर्देशक थापाले राम्रोसँग सञ्चार गराएका छन्  अर्पण फ्ल्यासब्याकमा पत्नी समुना सँगको प्रेमालाप बाबुसँगको जटिल सम्बन्धमा पनि सहज देखिएका छन्  अथवा एकै पर्दामा उनी अभिनयको विविधता पस्कन सफल छन्  अभिनयमा समुना थोरै तर जबरजस्त देखिएकी छन्  धन्दा बाट उनले लामो करिअरको सम्भावना पेस गरेकी छन्  गाउँदेखि म्यानपावरसम्म युवा ओसार्ने दलालको भूमिकामा देखिएका कमलमणिको अनुहार र अभिनयले चरित्रलाई राम्राे साथ दिएको छ  अर्का दलालको चरित्रमा देखिने पुष्करको अभिनय पनि कमजोर छैन  उपकथाबिना सोझो बाटोमा हिँडेको फिल्मको मुख्य कमजोरी हो  विकल्परहित देखिएको अर्जुन पात्रले लिने बदलालाई फिल्मले सनसनीपूर्ण रूपमा प्रस्तुत गरेको छ  जसले गर्दा उसको भावनात्मक पृष्ठभूमिलाई ओझेल पारेको छ  त्यसैगरी धोका दिनेलाई पिछा गर्दै एक एक गरी मार्दा फिल्ममा त्यसको प्रतिक्रिया शून्यप्रायः छ  व्यस्त सडकमा वा सार्वजनिक स्थलमा मान्छेको हत्या हुँदा अनि अस्पतालबाट शंकास्पद घाइते प्रहरीकै निगरानीबाट फरार हुँदा त्यसको असरबारे फिल्मले बोलेको छैन  केही मुख्य कुरामा फिल्म प्रस्ट नदेखिए पनि दृश्यका साना परिवर्तनमा भने चनाखो बनेको छ  पात्रका क्रियाकलाप र भावभंगीमा पनि संवाद झल्किन्छ  पाश्र्व संगीतमा पनि सुजिल कर्माचार्यले राम्रै अभिव्यक्ति दिन सफल छन्  मुख्य पात्र नै मूक देखिएका दृश्यमा उनले सहज गति दिलाएका छन्  कथा वाचनमा छायांकनको भूमिका उत्प्रेरकको रूपमा नै छ  गीतसंगीत परिस्थितिजन्य छन्  विषम परिस्थितिबाट गुजि्ररहेको मुख्य पात्र रेस्टुराँमा पुग्दा पनि आफू अनुकूलकै गीत पाउँछ  धन्दा स्त्रिप्टमा केही साँघुरिएका भए पनि यसले सस्तो लोकपि्रयताका लागि विषयगत भावलाई धमिल्याउन खोजेको छैन   \\t \\tफिल्म समीक्षा \\tधन्दा \\tनिर्देशक सुदर्शन थापा \\tकलाकार अर्पण थापा समुना केसी पुष्कर गुरुङ कमलमणि नेपाल \\t ',\n",
       "        'entertainment']], dtype=object)"
      ]
     },
     "execution_count": 46,
     "metadata": {},
     "output_type": "execute_result"
    }
   ],
   "source": [
    "df.sample(2).values"
   ]
  },
  {
   "cell_type": "code",
   "execution_count": null,
   "id": "2ad3a7d4-e23d-4614-b900-34b5152ec502",
   "metadata": {},
   "outputs": [],
   "source": []
  },
  {
   "cell_type": "code",
   "execution_count": null,
   "id": "d414c8b3-edc8-48fc-9b00-68b8b998128e",
   "metadata": {},
   "outputs": [],
   "source": []
  },
  {
   "cell_type": "code",
   "execution_count": null,
   "id": "0000abcb-3702-415c-b19c-cf975f1b0378",
   "metadata": {},
   "outputs": [],
   "source": []
  },
  {
   "cell_type": "code",
   "execution_count": 47,
   "id": "3a347455-ce99-4a95-a4d2-abfb299673b8",
   "metadata": {},
   "outputs": [],
   "source": [
    "# from tensorflow.keras.layers import GRU, Dense, Embedding, Dropout\n",
    "# X_train, X_test, y_train, y_test = train_test_split(X, y, test_size=0.2, random_state=42)\n",
    "\n",
    "# # Define the GRU model\n",
    "# gru_model = Sequential([\n",
    "#     Embedding(input_dim=X_train.shape[1], output_dim=128, input_length=X_train.shape[1]),\n",
    "#     GRU(64, return_sequences=True),\n",
    "#     Dropout(0.5),\n",
    "#     GRU(32),\n",
    "#     Dense(64, activation='relu'),\n",
    "#     Dropout(0.5),\n",
    "#     Dense(len(set(y)), activation='softmax')\n",
    "# ])\n",
    "\n",
    "# # Compile the model\n",
    "# gru_model.compile(optimizer='adam', loss='sparse_categorical_crossentropy', metrics=['accuracy'])\n",
    "\n",
    "# # Define early stopping criteria\n",
    "# early_stopping = EarlyStopping(monitor='val_loss', patience=3, restore_best_weights=True)\n",
    "\n",
    "# # Train the model with early stopping\n",
    "# history = gru_model.fit(X_train, y_train, epochs=20, batch_size=64, validation_data=(X_test, y_test), callbacks=[early_stopping])\n",
    "\n",
    "# # Evaluate the model\n",
    "# loss, accuracy = gru_model.evaluate(X_test, y_test)\n",
    "# print(f'Loss: {loss}, Accuracy: {accuracy}')\n"
   ]
  },
  {
   "cell_type": "code",
   "execution_count": 48,
   "id": "bae0ff8b-c9c9-49f0-a88b-5f9a630cdfa9",
   "metadata": {},
   "outputs": [],
   "source": [
    "# # Predict probabilities for each class\n",
    "# y_pred_prob = gru_model.predict(X_test)\n",
    "\n",
    "# # Get the class with the highest probability for each sample\n",
    "# y_pred = np.argmax(y_pred_prob, axis=1)\n",
    "\n",
    "# # Compute the confusion matrix\n",
    "# cm = confusion_matrix(y_test, y_pred)\n",
    "\n",
    "# class_names = ['business', 'politics', 'entertainment', 'tech', 'sport']\n",
    "\n",
    "# # Plot the confusion matrix with class names\n",
    "# plt.figure(figsize=(8, 6))\n",
    "# sns.heatmap(cm, annot=True, fmt='d', cmap='Blues', xticklabels=class_names, yticklabels=class_names)\n",
    "# plt.xlabel('Predicted')\n",
    "# plt.ylabel('True')\n",
    "# plt.title('Confusion Matrix')\n",
    "# plt.show()\n"
   ]
  },
  {
   "cell_type": "code",
   "execution_count": 49,
   "id": "77862b80-5ec1-4897-b078-499252be1695",
   "metadata": {},
   "outputs": [],
   "source": [
    "# from tensorflow.keras.layers import LSTM, Dense, Embedding, Bidirectional, Dropout\n",
    "# X_train, X_test, y_train, y_test = train_test_split(X, y, test_size=0.2, random_state=42)\n",
    "\n",
    "# # Define the LSTM model\n",
    "# lstm_model = Sequential([\n",
    "#     Embedding(input_dim=X_train.shape[1], output_dim=128, input_length=X_train.shape[1]),\n",
    "#     Bidirectional(LSTM(64, return_sequences=True)),\n",
    "#     Dropout(0.5),\n",
    "#     Bidirectional(LSTM(32)),\n",
    "#     Dense(64, activation='relu'),\n",
    "#     Dropout(0.5),\n",
    "#     Dense(len(set(y)), activation='softmax')\n",
    "# ])\n",
    "\n",
    "# # Compile the model\n",
    "# lstm_model.compile(optimizer='adam', loss='sparse_categorical_crossentropy', metrics=['accuracy'])\n",
    "\n",
    "# # Define early stopping criteria\n",
    "# early_stopping = EarlyStopping(monitor='val_loss', patience=3, restore_best_weights=True)\n",
    "\n",
    "# # Train the model with early stopping\n",
    "# history = lstm_model.fit(X_train, y_train, epochs=20, batch_size=64, validation_data=(X_test, y_test), callbacks=[early_stopping])\n",
    "\n",
    "# # Evaluate the model\n",
    "# loss, accuracy = lstm_model.evaluate(X_test, y_test)\n",
    "# print(f'Loss: {loss}, Accuracy: {accuracy}')\n"
   ]
  },
  {
   "cell_type": "code",
   "execution_count": 50,
   "id": "413ba944-9163-487a-b259-f5da76462d8a",
   "metadata": {},
   "outputs": [],
   "source": [
    "# # Predict probabilities for each class\n",
    "# y_pred_prob = lstm_model.predict(X_test)\n",
    "\n",
    "# # Get the class with the highest probability for each sample\n",
    "# y_pred = np.argmax(y_pred_prob, axis=1)\n",
    "\n",
    "# # Compute the confusion matrix\n",
    "# cm = confusion_matrix(y_test, y_pred)\n",
    "\n",
    "# class_names = ['business', 'politics', 'entertainment', 'tech', 'sport']\n",
    "\n",
    "# # Plot the confusion matrix with class names\n",
    "# plt.figure(figsize=(8, 6))\n",
    "# sns.heatmap(cm, annot=True, fmt='d', cmap='Blues', xticklabels=class_names, yticklabels=class_names)\n",
    "# plt.xlabel('Predicted')\n",
    "# plt.ylabel('True')\n",
    "# plt.title('Confusion Matrix')\n",
    "# plt.show()\n"
   ]
  },
  {
   "cell_type": "code",
   "execution_count": 51,
   "id": "3ab60315-6ef0-4147-92e3-5ce1013cf2de",
   "metadata": {},
   "outputs": [],
   "source": [
    "# import os\n",
    "# from tensorflow.keras.models import load_model\n",
    "\n",
    "# # Specify the file name for the model\n",
    "# model_filename = 'my_model.h5'\n",
    "\n",
    "# # Get the current working directory\n",
    "# current_dir = os.getcwd()\n",
    "\n",
    "# # Construct the full file path\n",
    "# model_path = os.path.join(current_dir, model_filename)\n",
    "\n",
    "# # Save the model\n",
    "# model.save(model_path)\n",
    "\n",
    "# print(\"Model saved successfully.\")\n"
   ]
  },
  {
   "cell_type": "code",
   "execution_count": 52,
   "id": "e26a6b43-4235-4566-bd06-5e853dd42501",
   "metadata": {},
   "outputs": [],
   "source": [
    "# def clean_text(string):\n",
    "#     if isinstance(string, str):\n",
    "#         clean_text = re.sub(r'[\\n,|।\\'\":]', '', string)\n",
    "#         return clean_text\n",
    "#     else:\n",
    "#         return string  # Return the input unchanged if it's not a string\n",
    "\n",
    "\n",
    "# import nltk\n",
    "# from nltk.tokenize import word_tokenize\n",
    "# from stem import Stem  # Import the Stem class from stem.py\n",
    "# import nltk\n",
    "# from nltk.tokenize import word_tokenize\n",
    "# from nltk.corpus import stopwords\n",
    "\n",
    "# # Assuming 'nepali' has stop words list\n",
    "# stop_words = set(stopwords.words('nepali'))  \n",
    "\n",
    "# # Create an instance of the Stem class\n",
    "# stemmer = Stem()\n",
    "\n",
    "# def tokenize_and_stem(text):\n",
    "#     if isinstance(text, str):\n",
    "#         tokens = word_tokenize(text)\n",
    "#         tokens = [word for word in tokens if word not in stop_words]\n",
    "#         stemmed_tokens = stemmer.rootify(tokens)  # Use the rootify method of the Stem class\n",
    "#         return stemmed_tokens\n",
    "#     else:\n",
    "#         return []\n",
    "\n",
    "# # Applying the tokenization and stemming function to each element in DataFrame 'X'\n",
    "# X = X.apply(lambda x: tokenize_and_stem(x))\n",
    "\n",
    "\n",
    "# import numpy as np\n",
    "# from keras.preprocessing.sequence import pad_sequences\n",
    "# from sklearn.model_selection import train_test_split\n",
    "\n",
    "# # Flatten the data to get a list of all words\n",
    "# all_words = [word for sentence in X for word in sentence]\n",
    "\n",
    "# # Count the frequency of each word\n",
    "# word_counts = pd.Series(all_words).value_counts()\n",
    "\n",
    "# # Assign ranks to the words based on their frequency\n",
    "# word_ranks = word_counts.rank(ascending=False, method='min')\n",
    "\n",
    "# # Create a dictionary to map words to their ranks\n",
    "# word_rank_dict = dict(zip(word_counts.index, word_ranks))\n",
    "\n",
    "# # Convert sentences to sequences of word indices\n",
    "# word_indices = [[word_rank_dict[word] for word in sentence if word in word_rank_dict] for sentence in X]\n",
    "\n",
    "# # Padding sequences to ensure they all have the same length\n",
    "# max_length = max(len(seq) for seq in word_indices)\n",
    "# padded_sequences = pad_sequences(word_indices, maxlen=max_length, padding='post', truncating='post')\n",
    "\n",
    "# # Convert the list of lists to a numpy array\n",
    "# X = np.array(padded_sequences)"
   ]
  },
  {
   "cell_type": "code",
   "execution_count": 53,
   "id": "f38fbd26-b772-4abc-a225-728252570f08",
   "metadata": {},
   "outputs": [
    {
     "data": {
      "text/plain": [
       "'/device:GPU:0'"
      ]
     },
     "execution_count": 53,
     "metadata": {},
     "output_type": "execute_result"
    }
   ],
   "source": [
    "import tensorflow as tf\n",
    "tf.test.gpu_device_name()"
   ]
  },
  {
   "cell_type": "code",
   "execution_count": null,
   "id": "5ea8e1a9-bf0c-4e96-8771-0ef35daca327",
   "metadata": {},
   "outputs": [],
   "source": []
  },
  {
   "cell_type": "code",
   "execution_count": 54,
   "id": "3294cecc-0e37-42a9-991d-e8e1280a7474",
   "metadata": {},
   "outputs": [],
   "source": [
    "# rnn_model.compile(optimizer='adam', loss='sparse_categorical_crossentropy', metrics=['accuracy'])\n",
    "# rnn_model.fit(X_train, y_train, epochs=5, batch_size=64, validation_data=(X_test, y_test))\n",
    "\n",
    "# # Compile and train the LSTM model\n",
    "# lstm_model.compile(optimizer='adam', loss='sparse_categorical_crossentropy', metrics=['accuracy'])\n",
    "# lstm_model.fit(X_train, y_train, epochs=5, batch_size=64, validation_data=(X_test, y_test))\n",
    "\n",
    "# # Compile and train the GRU model\n",
    "# gru_model.compile(optimizer='adam', loss='sparse_categorical_crossentropy', metrics=['accuracy'])\n",
    "# gru_model.fit(X_train, y_train, epochs=5, batch_size=64, validation_data=(X_test, y_test))"
   ]
  },
  {
   "cell_type": "code",
   "execution_count": 55,
   "id": "0358d1b4-c672-48be-9c56-871b6f05437e",
   "metadata": {},
   "outputs": [],
   "source": [
    "# from nepalitokenizers import WordPiece\n",
    "\n",
    "# tokenizer = WordPiece()\n",
    "\n",
    "# def tokenize_1(text):\n",
    "#     tokens = tokenizer.encode(text)\n",
    "#     return tokens.tokens"
   ]
  },
  {
   "cell_type": "code",
   "execution_count": 56,
   "id": "074578f9-dd56-43c3-8d94-01b8e249ee50",
   "metadata": {},
   "outputs": [],
   "source": [
    "# tokens = X_train.apply(tokenize_1)\n",
    "# print(tokens)"
   ]
  },
  {
   "cell_type": "code",
   "execution_count": 57,
   "id": "c60e0d16-3cc1-4b1b-b920-158301473007",
   "metadata": {},
   "outputs": [],
   "source": [
    "# X_train = tokens"
   ]
  },
  {
   "cell_type": "code",
   "execution_count": 58,
   "id": "e6a35074-3b92-4ca4-8e63-3a8d9e3233c3",
   "metadata": {},
   "outputs": [],
   "source": [
    "# from tensorflow.keras.layers.experimental.preprocessing import TextVectorization\n",
    "\n",
    "# # Define the TextVectorization layer\n",
    "# vectorizer = TextVectorization(max_tokens=1000, output_mode='int')\n",
    "\n",
    "# # Adapt the TextVectorization layer to your text data\n",
    "# vectorizer.adapt(text_data)\n",
    "\n",
    "# # Preprocess your input text data\n",
    "# preprocessed_data = vectorizer(text_data)\n",
    "\n",
    "# # Now you can feed the preprocessed_data into your model for prediction"
   ]
  },
  {
   "cell_type": "code",
   "execution_count": 59,
   "id": "3b798d7a-1b20-4186-9126-935ea30e3c97",
   "metadata": {},
   "outputs": [],
   "source": [
    "# from nepali_stemmer.stemmer import NepStemmer\n",
    "# nepstem = NepStemmer()"
   ]
  },
  {
   "cell_type": "code",
   "execution_count": 60,
   "id": "f128c716-d4e1-42af-a492-ea54145f7175",
   "metadata": {},
   "outputs": [],
   "source": [
    "# y=df.Category"
   ]
  },
  {
   "cell_type": "code",
   "execution_count": 61,
   "id": "3cbb89d9-543c-4385-a99d-a1de90dae7e0",
   "metadata": {},
   "outputs": [],
   "source": [
    "# X=df.News"
   ]
  },
  {
   "cell_type": "code",
   "execution_count": 62,
   "id": "a96809ed-478d-4d44-9795-49bbf214e751",
   "metadata": {},
   "outputs": [],
   "source": [
    "# from sklearn.model_selection import train_test_split\n",
    "# X_train, X_test, y_train, y_test = train_test_split(padded_sequences, df['Category'], test_size=0.2, random_state=42)"
   ]
  },
  {
   "cell_type": "code",
   "execution_count": 63,
   "id": "9fcd60fa-1f03-44c8-acea-b645725e24ce",
   "metadata": {},
   "outputs": [],
   "source": [
    "# from sklearn.preprocessing import LabelEncoder\n",
    "\n",
    "# # Initialize LabelEncoder\n",
    "# label_encoder = LabelEncoder()\n",
    "\n",
    "# print(\"Data type of y_train:\", type(y_train))\n",
    "# print(\"Data type of y_test:\", type(y_test))\n",
    "\n",
    "\n",
    "# print(\"Categories before label encoding in y_train:\")\n",
    "# print(set(y_train))\n",
    "\n",
    "# print(\"Categories before label encoding in y_train:\")\n",
    "# print(set(y_test))\n",
    "\n",
    "# # Encode the categorical labels into numerical format\n",
    "# y_train_encoded = label_encoder.fit_transform(y_train)\n",
    "# y_test_encoded = label_encoder.transform(y_test)\n",
    "\n",
    "# print(\"Categories after label encoding in y_test:\")\n",
    "# print(set(y_train_encoded))\n",
    "\n",
    "# print(\"Categories after label encoding in y_test:\")\n",
    "# print(set(y_test_encoded))\n",
    "\n",
    "# print(\"Data type of y_train:\", type(y_train))\n",
    "# print(\"Data type of y_test:\", type(y_test))\n",
    "\n",
    "# print(\"Unique values in y_train_encoded:\", set(y_train_encoded))\n",
    "# print(\"Unique values in y_test_encoded:\", set(y_test_encoded))\n"
   ]
  },
  {
   "cell_type": "code",
   "execution_count": 64,
   "id": "31ad7688-f62a-4c92-a176-d937385ee4fc",
   "metadata": {},
   "outputs": [],
   "source": [
    "# import re\n",
    "# from tensorflow.keras.preprocessing.text import Tokenizer\n",
    "# from tensorflow.keras.preprocessing.sequence import pad_sequences\n",
    "\n",
    "# # Define a regex pattern to preserve Devanagari characters\n",
    "# devanagari_pattern = re.compile(r'[^a-zA-Z\\s\\u0900-\\u097F]')  # Unicode range for Devanagari characters\n",
    "\n",
    "# # Remove special characters and lowercasing while preserving Devanagari characters\n",
    "# df['News'] = df['News'].apply(lambda x: devanagari_pattern.sub('', x.lower()))\n",
    "\n",
    "# # Tokenization\n",
    "# tokenizer = Tokenizer()\n",
    "# tokenizer.fit_on_texts(df['News'])\n",
    "# word_index = tokenizer.word_index\n",
    "# print(\"Number of unique tokens:\", len(word_index))\n",
    "\n",
    "# # Padding sequences\n",
    "# max_length = 100  # Adjust as needed based on the length distribution analysis\n",
    "# sequences = tokenizer.texts_to_sequences(df['News'])\n",
    "# padded_sequences = pad_sequences(sequences, maxlen=max_length)\n"
   ]
  },
  {
   "cell_type": "code",
   "execution_count": 65,
   "id": "9dae6223-d146-4eb0-a9e4-83f693ea1147",
   "metadata": {},
   "outputs": [],
   "source": [
    "# import numpy as np\n",
    "# from nltk.tokenize import word_tokenize\n",
    "# from keras.preprocessing.text import Tokenizer\n",
    "# from keras.preprocessing.sequence import pad_sequences\n",
    "\n",
    "# sequences = tokenizer.texts_to_sequences(X_train)\n",
    "# # Pad sequences to ensure uniform length\n",
    "# max_sequence_length = max(len(seq) for seq in sequences)\n",
    "# padded_sequences = pad_sequences(sequences, maxlen=max_sequence_length)"
   ]
  },
  {
   "cell_type": "code",
   "execution_count": 66,
   "id": "5701f340-99ee-4a57-8a02-e4840fa140f3",
   "metadata": {},
   "outputs": [
    {
     "name": "stdout",
     "output_type": "stream",
     "text": [
      "WARNING:tensorflow:Model was constructed with shape (None, 200) for input KerasTensor(type_spec=TensorSpec(shape=(None, 200), dtype=tf.float32, name='embedding_input'), name='embedding_input', description=\"created by layer 'embedding_input'\"), but it was called on an input with incompatible shape (None, 287).\n",
      "WARNING:tensorflow:Model was constructed with shape (None, 200) for input KerasTensor(type_spec=TensorSpec(shape=(None, 200), dtype=tf.float32, name='embedding_1_input'), name='embedding_1_input', description=\"created by layer 'embedding_1_input'\"), but it was called on an input with incompatible shape (None, 287).\n",
      "WARNING:tensorflow:Model was constructed with shape (None, 200) for input KerasTensor(type_spec=TensorSpec(shape=(None, 200), dtype=tf.float32, name='embedding_2_input'), name='embedding_2_input', description=\"created by layer 'embedding_2_input'\"), but it was called on an input with incompatible shape (None, 287).\n",
      "sport\n",
      "business\n",
      "politics\n"
     ]
    }
   ],
   "source": [
    "item_list=['''नेप्से परिसूचक र कारोबार रकम दुबै घट्यो\n",
    "कान्तिपुर संवाददाता\n",
    "साप्ताहिक कारोबारको अन्तिम दिन बिहीबार नेप्से परिसूचक ७.३१ अंकले घटेर १ हजार ९ सय ९८.९६ अंकमा बन्द भएको छ । ''']\n",
    "for item in item_list:\n",
    "    # Clean text\n",
    "    text_df = pd.Series(item)\n",
    "    text_df = text_df.apply(clean_text)\n",
    "    X = text_df.apply(lambda x: tokenize_and_stem(x))\n",
    "\n",
    "    sequences = tokenizer.texts_to_sequences(X)\n",
    "    padded_sequences = pad_sequences(sequences, maxlen=max_length)\n",
    "\n",
    "    prediction_rnn = np.argmax(model_simple_rnn.predict(padded_sequences))\n",
    "    labels = ['business',  'entertainment', 'politics', 'sport', 'tech']\n",
    "    predicted_label_rnn = labels[prediction_rnn]\n",
    "\n",
    "    prediction_gru = np.argmax(model_gru.predict(padded_sequences))\n",
    "    predicted_label_gru = labels[prediction_gru]\n",
    "\n",
    "    prediction_lstm = np.argmax(model_lstm.predict(padded_sequences))\n",
    "    predicted_label_lstm = labels[prediction_lstm]\n",
    "    print(predicted_label_rnn)\n",
    "    print(predicted_label_gru)\n",
    "    print(predicted_label_lstm)"
   ]
  },
  {
   "cell_type": "code",
   "execution_count": 67,
   "id": "aa6a8e0e-4ca0-4e80-a0ad-cea69f324305",
   "metadata": {},
   "outputs": [],
   "source": [
    "from tensorflow.keras.models import load_model"
   ]
  },
  {
   "cell_type": "code",
   "execution_count": 68,
   "id": "12bf8a90-6238-4de3-bf95-2d1c50fbbfff",
   "metadata": {},
   "outputs": [],
   "source": [
    "model_rnn = load_model('model_rnn.h5')\n",
    "model_lstm = load_model('model_lstm.h5')\n",
    "model_gru = load_model('model_gru.h5')"
   ]
  },
  {
   "cell_type": "code",
   "execution_count": 69,
   "id": "e50c27e0-8a26-42c5-a973-a399bd0939e5",
   "metadata": {},
   "outputs": [],
   "source": [
    "from fastapi import FastAPI, Body\n",
    "import uvicorn\n",
    "from pyngrok import ngrok\n",
    "from typing import List"
   ]
  },
  {
   "cell_type": "code",
   "execution_count": 70,
   "id": "770173c5-c710-47e8-b66a-4442442047b0",
   "metadata": {},
   "outputs": [],
   "source": [
    "ngrok.set_auth_token(\"2fwj36StRRzVYL8HLKVsBLON4jw_3nNsrbKcPd5ELRBXfYcva\")"
   ]
  },
  {
   "cell_type": "code",
   "execution_count": 71,
   "id": "73f014db-6ec5-4375-9318-be60cdb6beba",
   "metadata": {},
   "outputs": [],
   "source": [
    "app = FastAPI()\n",
    "\n",
    "@app.get(\"/\")\n",
    "def hello():\n",
    "    return {'message': 'Hello'}\n",
    "\n",
    "@app.post(\"/predict/\")\n",
    "async def predict_item(item_list: List[str]):\n",
    "    for item in item_list:\n",
    "    # Clean text\n",
    "        text_df = pd.Series(item)\n",
    "        text_df = text_df.apply(clean_text)\n",
    "        X = text_df.apply(lambda x: tokenize_and_stem(x))\n",
    "\n",
    "        sequences = tokenizer.texts_to_sequences(X)\n",
    "        padded_sequences = pad_sequences(sequences, maxlen=max_length)\n",
    "\n",
    "        prediction_rnn = np.argmax(model_rnn.predict(padded_sequences))\n",
    "        labels = ['business',  'entertainment', 'politics', 'sport', 'tech']\n",
    "        predicted_label_rnn = labels[prediction_rnn]\n",
    "\n",
    "        prediction_gru = np.argmax(model_gru.predict(padded_sequences))\n",
    "        predicted_label_gru = labels[prediction_gru]\n",
    "\n",
    "        prediction_lstm = np.argmax(model_lstm.predict(padded_sequences))\n",
    "        predicted_label_lstm = labels[prediction_lstm]\n",
    "\n",
    "        \n",
    "        return {\"predicted_label_rnn\": predicted_label_rnn,\n",
    "                \"predicted_label_gru\": predicted_label_gru,\n",
    "                \"predicted_label_lstm\": predicted_label_lstm\n",
    "                }"
   ]
  },
  {
   "cell_type": "code",
   "execution_count": 72,
   "id": "03a2c585-a149-4bef-84df-da5957b67add",
   "metadata": {
    "scrolled": true
   },
   "outputs": [
    {
     "name": "stdout",
     "output_type": "stream",
     "text": [
      "Public URL: https://9674-110-44-123-197.ngrok-free.app\n"
     ]
    },
    {
     "name": "stderr",
     "output_type": "stream",
     "text": [
      "INFO:     Started server process [4668]\n",
      "INFO:     Waiting for application startup.\n",
      "INFO:     Application startup complete.\n",
      "INFO:     Uvicorn running on http://0.0.0.0:8000 (Press CTRL+C to quit)\n",
      "INFO:     Shutting down\n",
      "INFO:     Waiting for application shutdown.\n",
      "INFO:     Application shutdown complete.\n",
      "INFO:     Finished server process [4668]\n"
     ]
    },
    {
     "ename": "KeyboardInterrupt",
     "evalue": "",
     "output_type": "error",
     "traceback": [
      "\u001b[1;31m---------------------------------------------------------------------------\u001b[0m",
      "\u001b[1;31mKeyboardInterrupt\u001b[0m                         Traceback (most recent call last)",
      "Cell \u001b[1;32mIn[72], line 18\u001b[0m\n\u001b[0;32m     16\u001b[0m \u001b[38;5;28;01mif\u001b[39;00m \u001b[38;5;18m__name__\u001b[39m \u001b[38;5;241m==\u001b[39m \u001b[38;5;124m\"\u001b[39m\u001b[38;5;124m__main__\u001b[39m\u001b[38;5;124m\"\u001b[39m:\n\u001b[0;32m     17\u001b[0m     tunnel \u001b[38;5;241m=\u001b[39m start_ngrok()\n\u001b[1;32m---> 18\u001b[0m     \u001b[43mrun_app\u001b[49m\u001b[43m(\u001b[49m\u001b[43m)\u001b[49m\n",
      "Cell \u001b[1;32mIn[72], line 8\u001b[0m, in \u001b[0;36mrun_app\u001b[1;34m()\u001b[0m\n\u001b[0;32m      6\u001b[0m \u001b[38;5;28;01mdef\u001b[39;00m \u001b[38;5;21mrun_app\u001b[39m():\n\u001b[0;32m      7\u001b[0m     nest_asyncio\u001b[38;5;241m.\u001b[39mapply()\n\u001b[1;32m----> 8\u001b[0m     \u001b[43muvicorn\u001b[49m\u001b[38;5;241;43m.\u001b[39;49m\u001b[43mrun\u001b[49m\u001b[43m(\u001b[49m\u001b[43mapp\u001b[49m\u001b[43m,\u001b[49m\u001b[43m \u001b[49m\u001b[43mhost\u001b[49m\u001b[38;5;241;43m=\u001b[39;49m\u001b[38;5;124;43m\"\u001b[39;49m\u001b[38;5;124;43m0.0.0.0\u001b[39;49m\u001b[38;5;124;43m\"\u001b[39;49m\u001b[43m,\u001b[49m\u001b[43m \u001b[49m\u001b[43mport\u001b[49m\u001b[38;5;241;43m=\u001b[39;49m\u001b[38;5;241;43m8000\u001b[39;49m\u001b[43m)\u001b[49m\n",
      "File \u001b[1;32m~\\anaconda3\\envs\\gpu\\lib\\site-packages\\uvicorn\\main.py:575\u001b[0m, in \u001b[0;36mrun\u001b[1;34m(app, host, port, uds, fd, loop, http, ws, ws_max_size, ws_max_queue, ws_ping_interval, ws_ping_timeout, ws_per_message_deflate, lifespan, interface, reload, reload_dirs, reload_includes, reload_excludes, reload_delay, workers, env_file, log_config, log_level, access_log, proxy_headers, server_header, date_header, forwarded_allow_ips, root_path, limit_concurrency, backlog, limit_max_requests, timeout_keep_alive, timeout_graceful_shutdown, ssl_keyfile, ssl_certfile, ssl_keyfile_password, ssl_version, ssl_cert_reqs, ssl_ca_certs, ssl_ciphers, headers, use_colors, app_dir, factory, h11_max_incomplete_event_size)\u001b[0m\n\u001b[0;32m    573\u001b[0m     Multiprocess(config, target\u001b[38;5;241m=\u001b[39mserver\u001b[38;5;241m.\u001b[39mrun, sockets\u001b[38;5;241m=\u001b[39m[sock])\u001b[38;5;241m.\u001b[39mrun()\n\u001b[0;32m    574\u001b[0m \u001b[38;5;28;01melse\u001b[39;00m:\n\u001b[1;32m--> 575\u001b[0m     \u001b[43mserver\u001b[49m\u001b[38;5;241;43m.\u001b[39;49m\u001b[43mrun\u001b[49m\u001b[43m(\u001b[49m\u001b[43m)\u001b[49m\n\u001b[0;32m    576\u001b[0m \u001b[38;5;28;01mif\u001b[39;00m config\u001b[38;5;241m.\u001b[39muds \u001b[38;5;129;01mand\u001b[39;00m os\u001b[38;5;241m.\u001b[39mpath\u001b[38;5;241m.\u001b[39mexists(config\u001b[38;5;241m.\u001b[39muds):\n\u001b[0;32m    577\u001b[0m     os\u001b[38;5;241m.\u001b[39mremove(config\u001b[38;5;241m.\u001b[39muds)  \u001b[38;5;66;03m# pragma: py-win32\u001b[39;00m\n",
      "File \u001b[1;32m~\\anaconda3\\envs\\gpu\\lib\\site-packages\\uvicorn\\server.py:65\u001b[0m, in \u001b[0;36mServer.run\u001b[1;34m(self, sockets)\u001b[0m\n\u001b[0;32m     63\u001b[0m \u001b[38;5;28;01mdef\u001b[39;00m \u001b[38;5;21mrun\u001b[39m(\u001b[38;5;28mself\u001b[39m, sockets: \u001b[38;5;28mlist\u001b[39m[socket\u001b[38;5;241m.\u001b[39msocket] \u001b[38;5;241m|\u001b[39m \u001b[38;5;28;01mNone\u001b[39;00m \u001b[38;5;241m=\u001b[39m \u001b[38;5;28;01mNone\u001b[39;00m) \u001b[38;5;241m-\u001b[39m\u001b[38;5;241m>\u001b[39m \u001b[38;5;28;01mNone\u001b[39;00m:\n\u001b[0;32m     64\u001b[0m     \u001b[38;5;28mself\u001b[39m\u001b[38;5;241m.\u001b[39mconfig\u001b[38;5;241m.\u001b[39msetup_event_loop()\n\u001b[1;32m---> 65\u001b[0m     \u001b[38;5;28;01mreturn\u001b[39;00m \u001b[43masyncio\u001b[49m\u001b[38;5;241;43m.\u001b[39;49m\u001b[43mrun\u001b[49m\u001b[43m(\u001b[49m\u001b[38;5;28;43mself\u001b[39;49m\u001b[38;5;241;43m.\u001b[39;49m\u001b[43mserve\u001b[49m\u001b[43m(\u001b[49m\u001b[43msockets\u001b[49m\u001b[38;5;241;43m=\u001b[39;49m\u001b[43msockets\u001b[49m\u001b[43m)\u001b[49m\u001b[43m)\u001b[49m\n",
      "File \u001b[1;32m~\\anaconda3\\envs\\gpu\\lib\\site-packages\\nest_asyncio.py:30\u001b[0m, in \u001b[0;36m_patch_asyncio.<locals>.run\u001b[1;34m(main, debug)\u001b[0m\n\u001b[0;32m     28\u001b[0m task \u001b[38;5;241m=\u001b[39m asyncio\u001b[38;5;241m.\u001b[39mensure_future(main)\n\u001b[0;32m     29\u001b[0m \u001b[38;5;28;01mtry\u001b[39;00m:\n\u001b[1;32m---> 30\u001b[0m     \u001b[38;5;28;01mreturn\u001b[39;00m \u001b[43mloop\u001b[49m\u001b[38;5;241;43m.\u001b[39;49m\u001b[43mrun_until_complete\u001b[49m\u001b[43m(\u001b[49m\u001b[43mtask\u001b[49m\u001b[43m)\u001b[49m\n\u001b[0;32m     31\u001b[0m \u001b[38;5;28;01mfinally\u001b[39;00m:\n\u001b[0;32m     32\u001b[0m     \u001b[38;5;28;01mif\u001b[39;00m \u001b[38;5;129;01mnot\u001b[39;00m task\u001b[38;5;241m.\u001b[39mdone():\n",
      "File \u001b[1;32m~\\anaconda3\\envs\\gpu\\lib\\site-packages\\nest_asyncio.py:92\u001b[0m, in \u001b[0;36m_patch_loop.<locals>.run_until_complete\u001b[1;34m(self, future)\u001b[0m\n\u001b[0;32m     90\u001b[0m     f\u001b[38;5;241m.\u001b[39m_log_destroy_pending \u001b[38;5;241m=\u001b[39m \u001b[38;5;28;01mFalse\u001b[39;00m\n\u001b[0;32m     91\u001b[0m \u001b[38;5;28;01mwhile\u001b[39;00m \u001b[38;5;129;01mnot\u001b[39;00m f\u001b[38;5;241m.\u001b[39mdone():\n\u001b[1;32m---> 92\u001b[0m     \u001b[38;5;28;43mself\u001b[39;49m\u001b[38;5;241;43m.\u001b[39;49m\u001b[43m_run_once\u001b[49m\u001b[43m(\u001b[49m\u001b[43m)\u001b[49m\n\u001b[0;32m     93\u001b[0m     \u001b[38;5;28;01mif\u001b[39;00m \u001b[38;5;28mself\u001b[39m\u001b[38;5;241m.\u001b[39m_stopping:\n\u001b[0;32m     94\u001b[0m         \u001b[38;5;28;01mbreak\u001b[39;00m\n",
      "File \u001b[1;32m~\\anaconda3\\envs\\gpu\\lib\\site-packages\\nest_asyncio.py:133\u001b[0m, in \u001b[0;36m_patch_loop.<locals>._run_once\u001b[1;34m(self)\u001b[0m\n\u001b[0;32m    130\u001b[0m curr_task \u001b[38;5;241m=\u001b[39m curr_tasks\u001b[38;5;241m.\u001b[39mpop(\u001b[38;5;28mself\u001b[39m, \u001b[38;5;28;01mNone\u001b[39;00m)\n\u001b[0;32m    132\u001b[0m \u001b[38;5;28;01mtry\u001b[39;00m:\n\u001b[1;32m--> 133\u001b[0m     \u001b[43mhandle\u001b[49m\u001b[38;5;241;43m.\u001b[39;49m\u001b[43m_run\u001b[49m\u001b[43m(\u001b[49m\u001b[43m)\u001b[49m\n\u001b[0;32m    134\u001b[0m \u001b[38;5;28;01mfinally\u001b[39;00m:\n\u001b[0;32m    135\u001b[0m     \u001b[38;5;66;03m# restore the current task\u001b[39;00m\n\u001b[0;32m    136\u001b[0m     \u001b[38;5;28;01mif\u001b[39;00m curr_task \u001b[38;5;129;01mis\u001b[39;00m \u001b[38;5;129;01mnot\u001b[39;00m \u001b[38;5;28;01mNone\u001b[39;00m:\n",
      "File \u001b[1;32m~\\anaconda3\\envs\\gpu\\lib\\asyncio\\events.py:80\u001b[0m, in \u001b[0;36mHandle._run\u001b[1;34m(self)\u001b[0m\n\u001b[0;32m     78\u001b[0m \u001b[38;5;28;01mdef\u001b[39;00m \u001b[38;5;21m_run\u001b[39m(\u001b[38;5;28mself\u001b[39m):\n\u001b[0;32m     79\u001b[0m     \u001b[38;5;28;01mtry\u001b[39;00m:\n\u001b[1;32m---> 80\u001b[0m         \u001b[38;5;28;43mself\u001b[39;49m\u001b[38;5;241;43m.\u001b[39;49m\u001b[43m_context\u001b[49m\u001b[38;5;241;43m.\u001b[39;49m\u001b[43mrun\u001b[49m\u001b[43m(\u001b[49m\u001b[38;5;28;43mself\u001b[39;49m\u001b[38;5;241;43m.\u001b[39;49m\u001b[43m_callback\u001b[49m\u001b[43m,\u001b[49m\u001b[43m \u001b[49m\u001b[38;5;241;43m*\u001b[39;49m\u001b[38;5;28;43mself\u001b[39;49m\u001b[38;5;241;43m.\u001b[39;49m\u001b[43m_args\u001b[49m\u001b[43m)\u001b[49m\n\u001b[0;32m     81\u001b[0m     \u001b[38;5;28;01mexcept\u001b[39;00m (\u001b[38;5;167;01mSystemExit\u001b[39;00m, \u001b[38;5;167;01mKeyboardInterrupt\u001b[39;00m):\n\u001b[0;32m     82\u001b[0m         \u001b[38;5;28;01mraise\u001b[39;00m\n",
      "File \u001b[1;32m~\\anaconda3\\envs\\gpu\\lib\\asyncio\\tasks.py:339\u001b[0m, in \u001b[0;36mTask.__wakeup\u001b[1;34m(self, future)\u001b[0m\n\u001b[0;32m    331\u001b[0m     \u001b[38;5;28mself\u001b[39m\u001b[38;5;241m.\u001b[39m__step(exc)\n\u001b[0;32m    332\u001b[0m \u001b[38;5;28;01melse\u001b[39;00m:\n\u001b[0;32m    333\u001b[0m     \u001b[38;5;66;03m# Don't pass the value of `future.result()` explicitly,\u001b[39;00m\n\u001b[0;32m    334\u001b[0m     \u001b[38;5;66;03m# as `Future.__iter__` and `Future.__await__` don't need it.\u001b[39;00m\n\u001b[1;32m   (...)\u001b[0m\n\u001b[0;32m    337\u001b[0m     \u001b[38;5;66;03m# instead of `__next__()`, which is slower for futures\u001b[39;00m\n\u001b[0;32m    338\u001b[0m     \u001b[38;5;66;03m# that return non-generator iterators from their `__iter__`.\u001b[39;00m\n\u001b[1;32m--> 339\u001b[0m     \u001b[38;5;28;43mself\u001b[39;49m\u001b[38;5;241;43m.\u001b[39;49m\u001b[43m__step\u001b[49m\u001b[43m(\u001b[49m\u001b[43m)\u001b[49m\n\u001b[0;32m    340\u001b[0m \u001b[38;5;28mself\u001b[39m \u001b[38;5;241m=\u001b[39m \u001b[38;5;28;01mNone\u001b[39;00m\n",
      "File \u001b[1;32m~\\anaconda3\\envs\\gpu\\lib\\asyncio\\tasks.py:256\u001b[0m, in \u001b[0;36mTask.__step\u001b[1;34m(***failed resolving arguments***)\u001b[0m\n\u001b[0;32m    252\u001b[0m \u001b[38;5;28;01mtry\u001b[39;00m:\n\u001b[0;32m    253\u001b[0m     \u001b[38;5;28;01mif\u001b[39;00m exc \u001b[38;5;129;01mis\u001b[39;00m \u001b[38;5;28;01mNone\u001b[39;00m:\n\u001b[0;32m    254\u001b[0m         \u001b[38;5;66;03m# We use the `send` method directly, because coroutines\u001b[39;00m\n\u001b[0;32m    255\u001b[0m         \u001b[38;5;66;03m# don't have `__iter__` and `__next__` methods.\u001b[39;00m\n\u001b[1;32m--> 256\u001b[0m         result \u001b[38;5;241m=\u001b[39m \u001b[43mcoro\u001b[49m\u001b[38;5;241;43m.\u001b[39;49m\u001b[43msend\u001b[49m\u001b[43m(\u001b[49m\u001b[38;5;28;43;01mNone\u001b[39;49;00m\u001b[43m)\u001b[49m\n\u001b[0;32m    257\u001b[0m     \u001b[38;5;28;01melse\u001b[39;00m:\n\u001b[0;32m    258\u001b[0m         result \u001b[38;5;241m=\u001b[39m coro\u001b[38;5;241m.\u001b[39mthrow(exc)\n",
      "File \u001b[1;32m~\\anaconda3\\envs\\gpu\\lib\\site-packages\\uvicorn\\server.py:69\u001b[0m, in \u001b[0;36mServer.serve\u001b[1;34m(self, sockets)\u001b[0m\n\u001b[0;32m     67\u001b[0m \u001b[38;5;28;01masync\u001b[39;00m \u001b[38;5;28;01mdef\u001b[39;00m \u001b[38;5;21mserve\u001b[39m(\u001b[38;5;28mself\u001b[39m, sockets: \u001b[38;5;28mlist\u001b[39m[socket\u001b[38;5;241m.\u001b[39msocket] \u001b[38;5;241m|\u001b[39m \u001b[38;5;28;01mNone\u001b[39;00m \u001b[38;5;241m=\u001b[39m \u001b[38;5;28;01mNone\u001b[39;00m) \u001b[38;5;241m-\u001b[39m\u001b[38;5;241m>\u001b[39m \u001b[38;5;28;01mNone\u001b[39;00m:\n\u001b[0;32m     68\u001b[0m     \u001b[38;5;28;01mwith\u001b[39;00m \u001b[38;5;28mself\u001b[39m\u001b[38;5;241m.\u001b[39mcapture_signals():\n\u001b[1;32m---> 69\u001b[0m         \u001b[38;5;28;01mawait\u001b[39;00m \u001b[38;5;28mself\u001b[39m\u001b[38;5;241m.\u001b[39m_serve(sockets)\n",
      "File \u001b[1;32m~\\anaconda3\\envs\\gpu\\lib\\contextlib.py:126\u001b[0m, in \u001b[0;36m_GeneratorContextManager.__exit__\u001b[1;34m(self, typ, value, traceback)\u001b[0m\n\u001b[0;32m    124\u001b[0m \u001b[38;5;28;01mif\u001b[39;00m typ \u001b[38;5;129;01mis\u001b[39;00m \u001b[38;5;28;01mNone\u001b[39;00m:\n\u001b[0;32m    125\u001b[0m     \u001b[38;5;28;01mtry\u001b[39;00m:\n\u001b[1;32m--> 126\u001b[0m         \u001b[38;5;28;43mnext\u001b[39;49m\u001b[43m(\u001b[49m\u001b[38;5;28;43mself\u001b[39;49m\u001b[38;5;241;43m.\u001b[39;49m\u001b[43mgen\u001b[49m\u001b[43m)\u001b[49m\n\u001b[0;32m    127\u001b[0m     \u001b[38;5;28;01mexcept\u001b[39;00m \u001b[38;5;167;01mStopIteration\u001b[39;00m:\n\u001b[0;32m    128\u001b[0m         \u001b[38;5;28;01mreturn\u001b[39;00m \u001b[38;5;28;01mFalse\u001b[39;00m\n",
      "File \u001b[1;32m~\\anaconda3\\envs\\gpu\\lib\\site-packages\\uvicorn\\server.py:328\u001b[0m, in \u001b[0;36mServer.capture_signals\u001b[1;34m(self)\u001b[0m\n\u001b[0;32m    324\u001b[0m \u001b[38;5;66;03m# If we did gracefully shut down due to a signal, try to\u001b[39;00m\n\u001b[0;32m    325\u001b[0m \u001b[38;5;66;03m# trigger the expected behaviour now; multiple signals would be\u001b[39;00m\n\u001b[0;32m    326\u001b[0m \u001b[38;5;66;03m# done LIFO, see https://stackoverflow.com/questions/48434964\u001b[39;00m\n\u001b[0;32m    327\u001b[0m \u001b[38;5;28;01mfor\u001b[39;00m captured_signal \u001b[38;5;129;01min\u001b[39;00m \u001b[38;5;28mreversed\u001b[39m(\u001b[38;5;28mself\u001b[39m\u001b[38;5;241m.\u001b[39m_captured_signals):\n\u001b[1;32m--> 328\u001b[0m     \u001b[43msignal\u001b[49m\u001b[38;5;241;43m.\u001b[39;49m\u001b[43mraise_signal\u001b[49m\u001b[43m(\u001b[49m\u001b[43mcaptured_signal\u001b[49m\u001b[43m)\u001b[49m\n",
      "\u001b[1;31mKeyboardInterrupt\u001b[0m: "
     ]
    }
   ],
   "source": [
    "# Run FastAPI app using Uvicorn with Ngrok\n",
    "import nest_asyncio\n",
    "import uvicorn\n",
    "\n",
    "# Run FastAPI app\n",
    "def run_app():\n",
    "    nest_asyncio.apply()\n",
    "    uvicorn.run(app, host=\"0.0.0.0\", port=8000)\n",
    "\n",
    "# Start Ngrok tunnel\n",
    "def start_ngrok():\n",
    "    ngrok_tunnel = ngrok.connect(8000)\n",
    "    print(\"Public URL:\", ngrok_tunnel.public_url)\n",
    "    return ngrok_tunnel\n",
    "\n",
    "if __name__ == \"__main__\":\n",
    "    tunnel = start_ngrok()\n",
    "    run_app()"
   ]
  },
  {
   "cell_type": "code",
   "execution_count": null,
   "id": "5974d6d8-4660-47ba-a74f-74447eb3ddbf",
   "metadata": {},
   "outputs": [],
   "source": [
    "ngrok.kill()"
   ]
  },
  {
   "cell_type": "code",
   "execution_count": null,
   "id": "8234d852-9210-41e4-8e0e-d491f141ec93",
   "metadata": {},
   "outputs": [],
   "source": [
    "!pip install python-multipart"
   ]
  },
  {
   "cell_type": "code",
   "execution_count": null,
   "id": "5f8d7ab3-cc7b-43d4-9b93-b8be3ebfac7f",
   "metadata": {},
   "outputs": [],
   "source": []
  }
 ],
 "metadata": {
  "kernelspec": {
   "display_name": "Python 3 (ipykernel)",
   "language": "python",
   "name": "python3"
  },
  "language_info": {
   "codemirror_mode": {
    "name": "ipython",
    "version": 3
   },
   "file_extension": ".py",
   "mimetype": "text/x-python",
   "name": "python",
   "nbconvert_exporter": "python",
   "pygments_lexer": "ipython3",
   "version": "3.9.18"
  }
 },
 "nbformat": 4,
 "nbformat_minor": 5
}
