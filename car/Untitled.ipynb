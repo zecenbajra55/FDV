{
 "cells": [
  {
   "cell_type": "code",
   "execution_count": 1,
   "id": "1845baf7",
   "metadata": {},
   "outputs": [],
   "source": [
    "import pandas as pd"
   ]
  },
  {
   "cell_type": "code",
   "execution_count": 2,
   "id": "d23e92c5",
   "metadata": {},
   "outputs": [],
   "source": [
    "df = pd.read_csv(\"car.csv\")"
   ]
  },
  {
   "cell_type": "code",
   "execution_count": 3,
   "id": "a3351937",
   "metadata": {},
   "outputs": [
    {
     "data": {
      "text/html": [
       "<div>\n",
       "<style scoped>\n",
       "    .dataframe tbody tr th:only-of-type {\n",
       "        vertical-align: middle;\n",
       "    }\n",
       "\n",
       "    .dataframe tbody tr th {\n",
       "        vertical-align: top;\n",
       "    }\n",
       "\n",
       "    .dataframe thead th {\n",
       "        text-align: right;\n",
       "    }\n",
       "</style>\n",
       "<table border=\"1\" class=\"dataframe\">\n",
       "  <thead>\n",
       "    <tr style=\"text-align: right;\">\n",
       "      <th></th>\n",
       "      <th>Name</th>\n",
       "      <th>Price</th>\n",
       "      <th>Used For</th>\n",
       "      <th>Transmisson</th>\n",
       "      <th>Colour</th>\n",
       "      <th>Make Year</th>\n",
       "      <th>Mileage</th>\n",
       "      <th>Engine (CC)</th>\n",
       "      <th>Fuel</th>\n",
       "      <th>Kilometer Run</th>\n",
       "      <th>Waranty</th>\n",
       "      <th>Types</th>\n",
       "    </tr>\n",
       "  </thead>\n",
       "  <tbody>\n",
       "    <tr>\n",
       "      <th>0</th>\n",
       "      <td>Hyundai | i20 Active S | TDi | 2015 | Hatchbac...</td>\n",
       "      <td>रू. 24,75,000रू. 25,00,000</td>\n",
       "      <td>Private Use</td>\n",
       "      <td>Manual2WD</td>\n",
       "      <td>Brown</td>\n",
       "      <td>2015</td>\n",
       "      <td>14</td>\n",
       "      <td>1400</td>\n",
       "      <td>Petrol</td>\n",
       "      <td>42000</td>\n",
       "      <td>NaN</td>\n",
       "      <td>NaN</td>\n",
       "    </tr>\n",
       "    <tr>\n",
       "      <th>1</th>\n",
       "      <td>Excellent car on sale (Hyundai)</td>\n",
       "      <td>रू. 7,50,000</td>\n",
       "      <td>NaN</td>\n",
       "      <td>Auto2WD</td>\n",
       "      <td>Light blue</td>\n",
       "      <td>2005</td>\n",
       "      <td>11</td>\n",
       "      <td>1399</td>\n",
       "      <td>Petrol</td>\n",
       "      <td>87412</td>\n",
       "      <td>NaN</td>\n",
       "      <td>NaN</td>\n",
       "    </tr>\n",
       "    <tr>\n",
       "      <th>2</th>\n",
       "      <td>TATA 407 Container (Tata)</td>\n",
       "      <td>रू. 7,00,000</td>\n",
       "      <td>NaN</td>\n",
       "      <td>Manual - 2WD</td>\n",
       "      <td>White</td>\n",
       "      <td>2013</td>\n",
       "      <td>NaN</td>\n",
       "      <td>2956</td>\n",
       "      <td>Diesel</td>\n",
       "      <td>60000</td>\n",
       "      <td>NaN</td>\n",
       "      <td>NaN</td>\n",
       "    </tr>\n",
       "    <tr>\n",
       "      <th>3</th>\n",
       "      <td>4x4 swaraj Mazda (Mahindra)</td>\n",
       "      <td>रू. 6,00,000</td>\n",
       "      <td>NaN</td>\n",
       "      <td>Manual - 4WD</td>\n",
       "      <td>NaN</td>\n",
       "      <td>2017</td>\n",
       "      <td>NaN</td>\n",
       "      <td>NaN</td>\n",
       "      <td>Diesel</td>\n",
       "      <td>NaN</td>\n",
       "      <td>NaN</td>\n",
       "      <td>NaN</td>\n",
       "    </tr>\n",
       "    <tr>\n",
       "      <th>4</th>\n",
       "      <td>i20 Active good for used few time (Hyundai)</td>\n",
       "      <td>रू. 375</td>\n",
       "      <td>NaN</td>\n",
       "      <td>Auto - 2WD</td>\n",
       "      <td>white</td>\n",
       "      <td>2019</td>\n",
       "      <td>17</td>\n",
       "      <td>1200</td>\n",
       "      <td>Petrol</td>\n",
       "      <td>2400</td>\n",
       "      <td>NaN</td>\n",
       "      <td>NaN</td>\n",
       "    </tr>\n",
       "  </tbody>\n",
       "</table>\n",
       "</div>"
      ],
      "text/plain": [
       "                                                Name  \\\n",
       "0  Hyundai | i20 Active S | TDi | 2015 | Hatchbac...   \n",
       "1                    Excellent car on sale (Hyundai)   \n",
       "2                          TATA 407 Container (Tata)   \n",
       "3                        4x4 swaraj Mazda (Mahindra)   \n",
       "4        i20 Active good for used few time (Hyundai)   \n",
       "\n",
       "                        Price     Used For   Transmisson      Colour  \\\n",
       "0  रू. 24,75,000रू. 25,00,000  Private Use     Manual2WD       Brown   \n",
       "1                रू. 7,50,000          NaN       Auto2WD  Light blue   \n",
       "2                रू. 7,00,000          NaN  Manual - 2WD       White   \n",
       "3                रू. 6,00,000          NaN  Manual - 4WD         NaN   \n",
       "4                     रू. 375          NaN    Auto - 2WD       white   \n",
       "\n",
       "  Make Year Mileage Engine (CC)    Fuel Kilometer Run Waranty  Types  \n",
       "0      2015      14        1400  Petrol         42000     NaN    NaN  \n",
       "1      2005      11        1399  Petrol         87412     NaN    NaN  \n",
       "2      2013     NaN        2956  Diesel         60000     NaN    NaN  \n",
       "3      2017     NaN         NaN  Diesel           NaN     NaN    NaN  \n",
       "4      2019      17        1200  Petrol          2400     NaN    NaN  "
      ]
     },
     "execution_count": 3,
     "metadata": {},
     "output_type": "execute_result"
    }
   ],
   "source": [
    "df.head()"
   ]
  },
  {
   "cell_type": "code",
   "execution_count": 4,
   "id": "262956f5",
   "metadata": {},
   "outputs": [
    {
     "data": {
      "text/html": [
       "<div>\n",
       "<style scoped>\n",
       "    .dataframe tbody tr th:only-of-type {\n",
       "        vertical-align: middle;\n",
       "    }\n",
       "\n",
       "    .dataframe tbody tr th {\n",
       "        vertical-align: top;\n",
       "    }\n",
       "\n",
       "    .dataframe thead th {\n",
       "        text-align: right;\n",
       "    }\n",
       "</style>\n",
       "<table border=\"1\" class=\"dataframe\">\n",
       "  <thead>\n",
       "    <tr style=\"text-align: right;\">\n",
       "      <th></th>\n",
       "      <th>Name</th>\n",
       "      <th>Price</th>\n",
       "      <th>Used For</th>\n",
       "      <th>Transmisson</th>\n",
       "      <th>Colour</th>\n",
       "      <th>Make Year</th>\n",
       "      <th>Mileage</th>\n",
       "      <th>Engine (CC)</th>\n",
       "      <th>Fuel</th>\n",
       "      <th>Kilometer Run</th>\n",
       "      <th>Waranty</th>\n",
       "      <th>Types</th>\n",
       "    </tr>\n",
       "  </thead>\n",
       "  <tbody>\n",
       "    <tr>\n",
       "      <th>0</th>\n",
       "      <td>False</td>\n",
       "      <td>False</td>\n",
       "      <td>False</td>\n",
       "      <td>False</td>\n",
       "      <td>False</td>\n",
       "      <td>False</td>\n",
       "      <td>False</td>\n",
       "      <td>False</td>\n",
       "      <td>False</td>\n",
       "      <td>False</td>\n",
       "      <td>True</td>\n",
       "      <td>True</td>\n",
       "    </tr>\n",
       "    <tr>\n",
       "      <th>1</th>\n",
       "      <td>False</td>\n",
       "      <td>False</td>\n",
       "      <td>True</td>\n",
       "      <td>False</td>\n",
       "      <td>False</td>\n",
       "      <td>False</td>\n",
       "      <td>False</td>\n",
       "      <td>False</td>\n",
       "      <td>False</td>\n",
       "      <td>False</td>\n",
       "      <td>True</td>\n",
       "      <td>True</td>\n",
       "    </tr>\n",
       "    <tr>\n",
       "      <th>2</th>\n",
       "      <td>False</td>\n",
       "      <td>False</td>\n",
       "      <td>True</td>\n",
       "      <td>False</td>\n",
       "      <td>False</td>\n",
       "      <td>False</td>\n",
       "      <td>True</td>\n",
       "      <td>False</td>\n",
       "      <td>False</td>\n",
       "      <td>False</td>\n",
       "      <td>True</td>\n",
       "      <td>True</td>\n",
       "    </tr>\n",
       "    <tr>\n",
       "      <th>3</th>\n",
       "      <td>False</td>\n",
       "      <td>False</td>\n",
       "      <td>True</td>\n",
       "      <td>False</td>\n",
       "      <td>True</td>\n",
       "      <td>False</td>\n",
       "      <td>True</td>\n",
       "      <td>True</td>\n",
       "      <td>False</td>\n",
       "      <td>True</td>\n",
       "      <td>True</td>\n",
       "      <td>True</td>\n",
       "    </tr>\n",
       "    <tr>\n",
       "      <th>4</th>\n",
       "      <td>False</td>\n",
       "      <td>False</td>\n",
       "      <td>True</td>\n",
       "      <td>False</td>\n",
       "      <td>False</td>\n",
       "      <td>False</td>\n",
       "      <td>False</td>\n",
       "      <td>False</td>\n",
       "      <td>False</td>\n",
       "      <td>False</td>\n",
       "      <td>True</td>\n",
       "      <td>True</td>\n",
       "    </tr>\n",
       "    <tr>\n",
       "      <th>...</th>\n",
       "      <td>...</td>\n",
       "      <td>...</td>\n",
       "      <td>...</td>\n",
       "      <td>...</td>\n",
       "      <td>...</td>\n",
       "      <td>...</td>\n",
       "      <td>...</td>\n",
       "      <td>...</td>\n",
       "      <td>...</td>\n",
       "      <td>...</td>\n",
       "      <td>...</td>\n",
       "      <td>...</td>\n",
       "    </tr>\n",
       "    <tr>\n",
       "      <th>843</th>\n",
       "      <td>False</td>\n",
       "      <td>False</td>\n",
       "      <td>False</td>\n",
       "      <td>False</td>\n",
       "      <td>False</td>\n",
       "      <td>False</td>\n",
       "      <td>False</td>\n",
       "      <td>False</td>\n",
       "      <td>False</td>\n",
       "      <td>False</td>\n",
       "      <td>True</td>\n",
       "      <td>True</td>\n",
       "    </tr>\n",
       "    <tr>\n",
       "      <th>844</th>\n",
       "      <td>False</td>\n",
       "      <td>False</td>\n",
       "      <td>False</td>\n",
       "      <td>False</td>\n",
       "      <td>False</td>\n",
       "      <td>False</td>\n",
       "      <td>False</td>\n",
       "      <td>False</td>\n",
       "      <td>False</td>\n",
       "      <td>False</td>\n",
       "      <td>False</td>\n",
       "      <td>True</td>\n",
       "    </tr>\n",
       "    <tr>\n",
       "      <th>845</th>\n",
       "      <td>False</td>\n",
       "      <td>False</td>\n",
       "      <td>False</td>\n",
       "      <td>False</td>\n",
       "      <td>False</td>\n",
       "      <td>False</td>\n",
       "      <td>False</td>\n",
       "      <td>False</td>\n",
       "      <td>False</td>\n",
       "      <td>False</td>\n",
       "      <td>True</td>\n",
       "      <td>True</td>\n",
       "    </tr>\n",
       "    <tr>\n",
       "      <th>846</th>\n",
       "      <td>False</td>\n",
       "      <td>False</td>\n",
       "      <td>True</td>\n",
       "      <td>False</td>\n",
       "      <td>False</td>\n",
       "      <td>False</td>\n",
       "      <td>True</td>\n",
       "      <td>False</td>\n",
       "      <td>False</td>\n",
       "      <td>False</td>\n",
       "      <td>True</td>\n",
       "      <td>True</td>\n",
       "    </tr>\n",
       "    <tr>\n",
       "      <th>847</th>\n",
       "      <td>False</td>\n",
       "      <td>False</td>\n",
       "      <td>False</td>\n",
       "      <td>False</td>\n",
       "      <td>False</td>\n",
       "      <td>False</td>\n",
       "      <td>False</td>\n",
       "      <td>False</td>\n",
       "      <td>False</td>\n",
       "      <td>False</td>\n",
       "      <td>False</td>\n",
       "      <td>True</td>\n",
       "    </tr>\n",
       "  </tbody>\n",
       "</table>\n",
       "<p>848 rows × 12 columns</p>\n",
       "</div>"
      ],
      "text/plain": [
       "      Name  Price  Used For  Transmisson  Colour  Make Year  Mileage  \\\n",
       "0    False  False     False        False   False      False    False   \n",
       "1    False  False      True        False   False      False    False   \n",
       "2    False  False      True        False   False      False     True   \n",
       "3    False  False      True        False    True      False     True   \n",
       "4    False  False      True        False   False      False    False   \n",
       "..     ...    ...       ...          ...     ...        ...      ...   \n",
       "843  False  False     False        False   False      False    False   \n",
       "844  False  False     False        False   False      False    False   \n",
       "845  False  False     False        False   False      False    False   \n",
       "846  False  False      True        False   False      False     True   \n",
       "847  False  False     False        False   False      False    False   \n",
       "\n",
       "     Engine (CC)   Fuel  Kilometer Run  Waranty  Types  \n",
       "0          False  False          False     True   True  \n",
       "1          False  False          False     True   True  \n",
       "2          False  False          False     True   True  \n",
       "3           True  False           True     True   True  \n",
       "4          False  False          False     True   True  \n",
       "..           ...    ...            ...      ...    ...  \n",
       "843        False  False          False     True   True  \n",
       "844        False  False          False    False   True  \n",
       "845        False  False          False     True   True  \n",
       "846        False  False          False     True   True  \n",
       "847        False  False          False    False   True  \n",
       "\n",
       "[848 rows x 12 columns]"
      ]
     },
     "execution_count": 4,
     "metadata": {},
     "output_type": "execute_result"
    }
   ],
   "source": [
    "df.isna()"
   ]
  },
  {
   "cell_type": "code",
   "execution_count": 5,
   "id": "874c5841",
   "metadata": {},
   "outputs": [
    {
     "name": "stdout",
     "output_type": "stream",
     "text": [
      "<class 'pandas.core.frame.DataFrame'>\n",
      "RangeIndex: 848 entries, 0 to 847\n",
      "Data columns (total 12 columns):\n",
      " #   Column         Non-Null Count  Dtype  \n",
      "---  ------         --------------  -----  \n",
      " 0   Name           848 non-null    object \n",
      " 1   Price          848 non-null    object \n",
      " 2   Used For       357 non-null    object \n",
      " 3   Transmisson    848 non-null    object \n",
      " 4   Colour         766 non-null    object \n",
      " 5   Make Year      848 non-null    object \n",
      " 6   Mileage        458 non-null    object \n",
      " 7   Engine (CC)    741 non-null    object \n",
      " 8   Fuel           848 non-null    object \n",
      " 9   Kilometer Run  706 non-null    object \n",
      " 10  Waranty        209 non-null    object \n",
      " 11  Types          0 non-null      float64\n",
      "dtypes: float64(1), object(11)\n",
      "memory usage: 79.6+ KB\n"
     ]
    }
   ],
   "source": [
    "df.info()"
   ]
  },
  {
   "cell_type": "code",
   "execution_count": 6,
   "id": "86b04b98",
   "metadata": {},
   "outputs": [
    {
     "data": {
      "text/plain": [
       "Name               0\n",
       "Price              0\n",
       "Used For         491\n",
       "Transmisson        0\n",
       "Colour            82\n",
       "Make Year          0\n",
       "Mileage          390\n",
       "Engine (CC)      107\n",
       "Fuel               0\n",
       "Kilometer Run    142\n",
       "Waranty          639\n",
       "Types            848\n",
       "dtype: int64"
      ]
     },
     "execution_count": 6,
     "metadata": {},
     "output_type": "execute_result"
    }
   ],
   "source": [
    "df.isna().sum()"
   ]
  },
  {
   "cell_type": "code",
   "execution_count": 7,
   "id": "0ee431fd",
   "metadata": {},
   "outputs": [
    {
     "data": {
      "text/plain": [
       "Name               0.000000\n",
       "Price              0.000000\n",
       "Used For          57.900943\n",
       "Transmisson        0.000000\n",
       "Colour             9.669811\n",
       "Make Year          0.000000\n",
       "Mileage           45.990566\n",
       "Engine (CC)       12.617925\n",
       "Fuel               0.000000\n",
       "Kilometer Run     16.745283\n",
       "Waranty           75.353774\n",
       "Types            100.000000\n",
       "dtype: float64"
      ]
     },
     "execution_count": 7,
     "metadata": {},
     "output_type": "execute_result"
    }
   ],
   "source": [
    "df.isna().sum()/len(df) *100"
   ]
  },
  {
   "cell_type": "markdown",
   "id": "1b5944b1",
   "metadata": {},
   "source": [
    "removing null columns"
   ]
  },
  {
   "cell_type": "code",
   "execution_count": 8,
   "id": "ea7073b7",
   "metadata": {},
   "outputs": [],
   "source": [
    "import seaborn as sns"
   ]
  },
  {
   "cell_type": "code",
   "execution_count": 9,
   "id": "10344b30",
   "metadata": {},
   "outputs": [
    {
     "data": {
      "text/plain": [
       "<AxesSubplot:>"
      ]
     },
     "execution_count": 9,
     "metadata": {},
     "output_type": "execute_result"
    },
    {
     "data": {
      "image/png": "[encoded data removed]",
      "text/plain": [
       "<Figure size 640x480 with 2 Axes>"
      ]
     },
     "metadata": {},
     "output_type": "display_data"
    }
   ],
   "source": [
    "sns.heatmap(df.isna().transpose())"
   ]
  },
  {
   "cell_type": "code",
   "execution_count": 10,
   "id": "803bf3a6",
   "metadata": {},
   "outputs": [
    {
     "data": {
      "text/html": [
       "<div>\n",
       "<style scoped>\n",
       "    .dataframe tbody tr th:only-of-type {\n",
       "        vertical-align: middle;\n",
       "    }\n",
       "\n",
       "    .dataframe tbody tr th {\n",
       "        vertical-align: top;\n",
       "    }\n",
       "\n",
       "    .dataframe thead th {\n",
       "        text-align: right;\n",
       "    }\n",
       "</style>\n",
       "<table border=\"1\" class=\"dataframe\">\n",
       "  <thead>\n",
       "    <tr style=\"text-align: right;\">\n",
       "      <th></th>\n",
       "      <th>Name</th>\n",
       "      <th>Price</th>\n",
       "      <th>Used For</th>\n",
       "      <th>Transmisson</th>\n",
       "      <th>Colour</th>\n",
       "      <th>Make Year</th>\n",
       "      <th>Mileage</th>\n",
       "      <th>Engine (CC)</th>\n",
       "      <th>Fuel</th>\n",
       "      <th>Kilometer Run</th>\n",
       "      <th>Waranty</th>\n",
       "      <th>Types</th>\n",
       "    </tr>\n",
       "  </thead>\n",
       "  <tbody>\n",
       "    <tr>\n",
       "      <th>0</th>\n",
       "      <td>Hyundai | i20 Active S | TDi | 2015 | Hatchbac...</td>\n",
       "      <td>रू. 24,75,000रू. 25,00,000</td>\n",
       "      <td>Private Use</td>\n",
       "      <td>Manual2WD</td>\n",
       "      <td>Brown</td>\n",
       "      <td>2015</td>\n",
       "      <td>14</td>\n",
       "      <td>1400</td>\n",
       "      <td>Petrol</td>\n",
       "      <td>42000</td>\n",
       "      <td>NaN</td>\n",
       "      <td>NaN</td>\n",
       "    </tr>\n",
       "    <tr>\n",
       "      <th>1</th>\n",
       "      <td>Excellent car on sale (Hyundai)</td>\n",
       "      <td>रू. 7,50,000</td>\n",
       "      <td>NaN</td>\n",
       "      <td>Auto2WD</td>\n",
       "      <td>Light blue</td>\n",
       "      <td>2005</td>\n",
       "      <td>11</td>\n",
       "      <td>1399</td>\n",
       "      <td>Petrol</td>\n",
       "      <td>87412</td>\n",
       "      <td>NaN</td>\n",
       "      <td>NaN</td>\n",
       "    </tr>\n",
       "    <tr>\n",
       "      <th>2</th>\n",
       "      <td>TATA 407 Container (Tata)</td>\n",
       "      <td>रू. 7,00,000</td>\n",
       "      <td>NaN</td>\n",
       "      <td>Manual - 2WD</td>\n",
       "      <td>White</td>\n",
       "      <td>2013</td>\n",
       "      <td>NaN</td>\n",
       "      <td>2956</td>\n",
       "      <td>Diesel</td>\n",
       "      <td>60000</td>\n",
       "      <td>NaN</td>\n",
       "      <td>NaN</td>\n",
       "    </tr>\n",
       "    <tr>\n",
       "      <th>3</th>\n",
       "      <td>4x4 swaraj Mazda (Mahindra)</td>\n",
       "      <td>रू. 6,00,000</td>\n",
       "      <td>NaN</td>\n",
       "      <td>Manual - 4WD</td>\n",
       "      <td>NaN</td>\n",
       "      <td>2017</td>\n",
       "      <td>NaN</td>\n",
       "      <td>NaN</td>\n",
       "      <td>Diesel</td>\n",
       "      <td>NaN</td>\n",
       "      <td>NaN</td>\n",
       "      <td>NaN</td>\n",
       "    </tr>\n",
       "    <tr>\n",
       "      <th>4</th>\n",
       "      <td>i20 Active good for used few time (Hyundai)</td>\n",
       "      <td>रू. 375</td>\n",
       "      <td>NaN</td>\n",
       "      <td>Auto - 2WD</td>\n",
       "      <td>white</td>\n",
       "      <td>2019</td>\n",
       "      <td>17</td>\n",
       "      <td>1200</td>\n",
       "      <td>Petrol</td>\n",
       "      <td>2400</td>\n",
       "      <td>NaN</td>\n",
       "      <td>NaN</td>\n",
       "    </tr>\n",
       "  </tbody>\n",
       "</table>\n",
       "</div>"
      ],
      "text/plain": [
       "                                                Name  \\\n",
       "0  Hyundai | i20 Active S | TDi | 2015 | Hatchbac...   \n",
       "1                    Excellent car on sale (Hyundai)   \n",
       "2                          TATA 407 Container (Tata)   \n",
       "3                        4x4 swaraj Mazda (Mahindra)   \n",
       "4        i20 Active good for used few time (Hyundai)   \n",
       "\n",
       "                        Price     Used For   Transmisson      Colour  \\\n",
       "0  रू. 24,75,000रू. 25,00,000  Private Use     Manual2WD       Brown   \n",
       "1                रू. 7,50,000          NaN       Auto2WD  Light blue   \n",
       "2                रू. 7,00,000          NaN  Manual - 2WD       White   \n",
       "3                रू. 6,00,000          NaN  Manual - 4WD         NaN   \n",
       "4                     रू. 375          NaN    Auto - 2WD       white   \n",
       "\n",
       "  Make Year Mileage Engine (CC)    Fuel Kilometer Run Waranty  Types  \n",
       "0      2015      14        1400  Petrol         42000     NaN    NaN  \n",
       "1      2005      11        1399  Petrol         87412     NaN    NaN  \n",
       "2      2013     NaN        2956  Diesel         60000     NaN    NaN  \n",
       "3      2017     NaN         NaN  Diesel           NaN     NaN    NaN  \n",
       "4      2019      17        1200  Petrol          2400     NaN    NaN  "
      ]
     },
     "execution_count": 10,
     "metadata": {},
     "output_type": "execute_result"
    }
   ],
   "source": [
    "df.head()"
   ]
  },
  {
   "cell_type": "code",
   "execution_count": 11,
   "id": "ef409cb6",
   "metadata": {},
   "outputs": [],
   "source": [
    "df.drop(columns = ['Types'],inplace=True)"
   ]
  },
  {
   "cell_type": "code",
   "execution_count": 12,
   "id": "30e4805b",
   "metadata": {},
   "outputs": [],
   "source": [
    "df.drop(columns = ['Waranty'],inplace=True)"
   ]
  },
  {
   "cell_type": "code",
   "execution_count": 13,
   "id": "ba1f93da",
   "metadata": {},
   "outputs": [
    {
     "data": {
      "text/plain": [
       "Name               0\n",
       "Price              0\n",
       "Used For         491\n",
       "Transmisson        0\n",
       "Colour            82\n",
       "Make Year          0\n",
       "Mileage          390\n",
       "Engine (CC)      107\n",
       "Fuel               0\n",
       "Kilometer Run    142\n",
       "dtype: int64"
      ]
     },
     "execution_count": 13,
     "metadata": {},
     "output_type": "execute_result"
    }
   ],
   "source": [
    "df.isna().sum()"
   ]
  },
  {
   "cell_type": "code",
   "execution_count": 14,
   "id": "4f3f3b11",
   "metadata": {},
   "outputs": [
    {
     "data": {
      "text/plain": [
       "count       766\n",
       "unique      182\n",
       "top       White\n",
       "freq        100\n",
       "Name: Colour, dtype: object"
      ]
     },
     "execution_count": 14,
     "metadata": {},
     "output_type": "execute_result"
    }
   ],
   "source": [
    "df['Colour'].describe()"
   ]
  },
  {
   "cell_type": "markdown",
   "id": "0b2393ec",
   "metadata": {},
   "source": [
    "the top color is white so replacing all nulll columns with white"
   ]
  },
  {
   "cell_type": "code",
   "execution_count": 15,
   "id": "a9bbe4af",
   "metadata": {},
   "outputs": [],
   "source": [
    "def fill_color(x):\n",
    "    if pd.isna(x):\n",
    "        return 'white'\n",
    "    return x\n",
    "df.Colour=df['Colour'].apply(fill_color)"
   ]
  },
  {
   "cell_type": "code",
   "execution_count": 16,
   "id": "737ce23b",
   "metadata": {},
   "outputs": [
    {
     "data": {
      "text/plain": [
       "Name               0\n",
       "Price              0\n",
       "Used For         491\n",
       "Transmisson        0\n",
       "Colour             0\n",
       "Make Year          0\n",
       "Mileage          390\n",
       "Engine (CC)      107\n",
       "Fuel               0\n",
       "Kilometer Run    142\n",
       "dtype: int64"
      ]
     },
     "execution_count": 16,
     "metadata": {},
     "output_type": "execute_result"
    }
   ],
   "source": [
    "df.isna().sum()"
   ]
  },
  {
   "cell_type": "code",
   "execution_count": 17,
   "id": "62652845",
   "metadata": {},
   "outputs": [
    {
     "data": {
      "text/plain": [
       "count       706\n",
       "unique      247\n",
       "top       50000\n",
       "freq         20\n",
       "Name: Kilometer Run, dtype: object"
      ]
     },
     "execution_count": 17,
     "metadata": {},
     "output_type": "execute_result"
    }
   ],
   "source": [
    "df['Kilometer Run'].describe()"
   ]
  },
  {
   "cell_type": "code",
   "execution_count": null,
   "id": "c7c2e3cf",
   "metadata": {},
   "outputs": [],
   "source": [
    "pd.to_numeric(df[''])"
   ]
  },
  {
   "cell_type": "markdown",
   "id": "5d988ae6",
   "metadata": {},
   "source": [
    "similarly the kilometer run is 50000 hence replacing all with 50000"
   ]
  },
  {
   "cell_type": "code",
   "execution_count": 29,
   "id": "e1d70fdb",
   "metadata": {},
   "outputs": [],
   "source": [
    "def fill_kr(x):\n",
    "    if pd.isna(x):\n",
    "        return 50000\n",
    "    return x\n",
    "df['Kilometer Run'] = df['Kilometer Run'].apply(fill_kr)"
   ]
  },
  {
   "cell_type": "code",
   "execution_count": 32,
   "id": "06a5dbb2",
   "metadata": {},
   "outputs": [],
   "source": [
    "columns_to_remove = df.columns[df.isin(['-',]).any()]\n",
    "df.drop(columns=columns_to_remove, inplace=True)"
   ]
  },
  {
   "cell_type": "code",
   "execution_count": 36,
   "id": "8b4ee048",
   "metadata": {},
   "outputs": [
    {
     "ename": "KeyError",
     "evalue": "'Kilometer Run'",
     "output_type": "error",
     "traceback": [
      "\u001b[1;31m---------------------------------------------------------------------------\u001b[0m",
      "\u001b[1;31mKeyError\u001b[0m                                  Traceback (most recent call last)",
      "File \u001b[1;32m~\\AppData\\Local\\Programs\\Python\\Python310\\lib\\site-packages\\pandas\\core\\indexes\\base.py:3653\u001b[0m, in \u001b[0;36mIndex.get_loc\u001b[1;34m(self, key)\u001b[0m\n\u001b[0;32m   3652\u001b[0m \u001b[38;5;28;01mtry\u001b[39;00m:\n\u001b[1;32m-> 3653\u001b[0m     \u001b[38;5;28;01mreturn\u001b[39;00m \u001b[38;5;28;43mself\u001b[39;49m\u001b[38;5;241;43m.\u001b[39;49m\u001b[43m_engine\u001b[49m\u001b[38;5;241;43m.\u001b[39;49m\u001b[43mget_loc\u001b[49m\u001b[43m(\u001b[49m\u001b[43mcasted_key\u001b[49m\u001b[43m)\u001b[49m\n\u001b[0;32m   3654\u001b[0m \u001b[38;5;28;01mexcept\u001b[39;00m \u001b[38;5;167;01mKeyError\u001b[39;00m \u001b[38;5;28;01mas\u001b[39;00m err:\n",
      "File \u001b[1;32m~\\AppData\\Local\\Programs\\Python\\Python310\\lib\\site-packages\\pandas\\_libs\\index.pyx:147\u001b[0m, in \u001b[0;36mpandas._libs.index.IndexEngine.get_loc\u001b[1;34m()\u001b[0m\n",
      "File \u001b[1;32m~\\AppData\\Local\\Programs\\Python\\Python310\\lib\\site-packages\\pandas\\_libs\\index.pyx:176\u001b[0m, in \u001b[0;36mpandas._libs.index.IndexEngine.get_loc\u001b[1;34m()\u001b[0m\n",
      "File \u001b[1;32mpandas\\_libs\\hashtable_class_helper.pxi:7080\u001b[0m, in \u001b[0;36mpandas._libs.hashtable.PyObjectHashTable.get_item\u001b[1;34m()\u001b[0m\n",
      "File \u001b[1;32mpandas\\_libs\\hashtable_class_helper.pxi:7088\u001b[0m, in \u001b[0;36mpandas._libs.hashtable.PyObjectHashTable.get_item\u001b[1;34m()\u001b[0m\n",
      "\u001b[1;31mKeyError\u001b[0m: 'Kilometer Run'",
      "\nThe above exception was the direct cause of the following exception:\n",
      "\u001b[1;31mKeyError\u001b[0m                                  Traceback (most recent call last)",
      "Cell \u001b[1;32mIn[36], line 1\u001b[0m\n\u001b[1;32m----> 1\u001b[0m pd\u001b[38;5;241m.\u001b[39mto_numeric(\u001b[43mdf\u001b[49m\u001b[43m[\u001b[49m\u001b[38;5;124;43m'\u001b[39;49m\u001b[38;5;124;43mKilometer Run\u001b[39;49m\u001b[38;5;124;43m'\u001b[39;49m\u001b[43m]\u001b[49m)\n",
      "File \u001b[1;32m~\\AppData\\Local\\Programs\\Python\\Python310\\lib\\site-packages\\pandas\\core\\frame.py:3761\u001b[0m, in \u001b[0;36mDataFrame.__getitem__\u001b[1;34m(self, key)\u001b[0m\n\u001b[0;32m   3759\u001b[0m \u001b[38;5;28;01mif\u001b[39;00m \u001b[38;5;28mself\u001b[39m\u001b[38;5;241m.\u001b[39mcolumns\u001b[38;5;241m.\u001b[39mnlevels \u001b[38;5;241m>\u001b[39m \u001b[38;5;241m1\u001b[39m:\n\u001b[0;32m   3760\u001b[0m     \u001b[38;5;28;01mreturn\u001b[39;00m \u001b[38;5;28mself\u001b[39m\u001b[38;5;241m.\u001b[39m_getitem_multilevel(key)\n\u001b[1;32m-> 3761\u001b[0m indexer \u001b[38;5;241m=\u001b[39m \u001b[38;5;28;43mself\u001b[39;49m\u001b[38;5;241;43m.\u001b[39;49m\u001b[43mcolumns\u001b[49m\u001b[38;5;241;43m.\u001b[39;49m\u001b[43mget_loc\u001b[49m\u001b[43m(\u001b[49m\u001b[43mkey\u001b[49m\u001b[43m)\u001b[49m\n\u001b[0;32m   3762\u001b[0m \u001b[38;5;28;01mif\u001b[39;00m is_integer(indexer):\n\u001b[0;32m   3763\u001b[0m     indexer \u001b[38;5;241m=\u001b[39m [indexer]\n",
      "File \u001b[1;32m~\\AppData\\Local\\Programs\\Python\\Python310\\lib\\site-packages\\pandas\\core\\indexes\\base.py:3655\u001b[0m, in \u001b[0;36mIndex.get_loc\u001b[1;34m(self, key)\u001b[0m\n\u001b[0;32m   3653\u001b[0m     \u001b[38;5;28;01mreturn\u001b[39;00m \u001b[38;5;28mself\u001b[39m\u001b[38;5;241m.\u001b[39m_engine\u001b[38;5;241m.\u001b[39mget_loc(casted_key)\n\u001b[0;32m   3654\u001b[0m \u001b[38;5;28;01mexcept\u001b[39;00m \u001b[38;5;167;01mKeyError\u001b[39;00m \u001b[38;5;28;01mas\u001b[39;00m err:\n\u001b[1;32m-> 3655\u001b[0m     \u001b[38;5;28;01mraise\u001b[39;00m \u001b[38;5;167;01mKeyError\u001b[39;00m(key) \u001b[38;5;28;01mfrom\u001b[39;00m \u001b[38;5;21;01merr\u001b[39;00m\n\u001b[0;32m   3656\u001b[0m \u001b[38;5;28;01mexcept\u001b[39;00m \u001b[38;5;167;01mTypeError\u001b[39;00m:\n\u001b[0;32m   3657\u001b[0m     \u001b[38;5;66;03m# If we have a listlike key, _check_indexing_error will raise\u001b[39;00m\n\u001b[0;32m   3658\u001b[0m     \u001b[38;5;66;03m#  InvalidIndexError. Otherwise we fall through and re-raise\u001b[39;00m\n\u001b[0;32m   3659\u001b[0m     \u001b[38;5;66;03m#  the TypeError.\u001b[39;00m\n\u001b[0;32m   3660\u001b[0m     \u001b[38;5;28mself\u001b[39m\u001b[38;5;241m.\u001b[39m_check_indexing_error(key)\n",
      "\u001b[1;31mKeyError\u001b[0m: 'Kilometer Run'"
     ]
    }
   ],
   "source": []
  },
  {
   "cell_type": "code",
   "execution_count": 38,
   "id": "a17d5b35",
   "metadata": {},
   "outputs": [
    {
     "name": "stdout",
     "output_type": "stream",
     "text": [
      "<class 'pandas.core.frame.DataFrame'>\n",
      "RangeIndex: 848 entries, 0 to 847\n",
      "Data columns (total 8 columns):\n",
      " #   Column       Non-Null Count  Dtype \n",
      "---  ------       --------------  ----- \n",
      " 0   Name         848 non-null    object\n",
      " 1   Price        848 non-null    object\n",
      " 2   Transmisson  848 non-null    object\n",
      " 3   Colour       848 non-null    object\n",
      " 4   Make Year    848 non-null    object\n",
      " 5   Mileage      458 non-null    object\n",
      " 6   Engine (CC)  741 non-null    object\n",
      " 7   Fuel         848 non-null    object\n",
      "dtypes: object(8)\n",
      "memory usage: 53.1+ KB\n"
     ]
    }
   ],
   "source": []
  },
  {
   "cell_type": "code",
   "execution_count": 40,
   "id": "802d39de",
   "metadata": {},
   "outputs": [],
   "source": [
    "def fill_mileage(x):\n",
    "    if pd.isna(x):\n",
    "        return 15\n",
    "    return x\n",
    "df['Mileage'] = df['Mileage'].apply(fill_mileage)"
   ]
  },
  {
   "cell_type": "code",
   "execution_count": 41,
   "id": "8265815f",
   "metadata": {},
   "outputs": [
    {
     "ename": "KeyError",
     "evalue": "'Kilometer Run'",
     "output_type": "error",
     "traceback": [
      "\u001b[1;31m---------------------------------------------------------------------------\u001b[0m",
      "\u001b[1;31mKeyError\u001b[0m                                  Traceback (most recent call last)",
      "File \u001b[1;32m~\\AppData\\Local\\Programs\\Python\\Python310\\lib\\site-packages\\pandas\\core\\indexes\\base.py:3653\u001b[0m, in \u001b[0;36mIndex.get_loc\u001b[1;34m(self, key)\u001b[0m\n\u001b[0;32m   3652\u001b[0m \u001b[38;5;28;01mtry\u001b[39;00m:\n\u001b[1;32m-> 3653\u001b[0m     \u001b[38;5;28;01mreturn\u001b[39;00m \u001b[38;5;28;43mself\u001b[39;49m\u001b[38;5;241;43m.\u001b[39;49m\u001b[43m_engine\u001b[49m\u001b[38;5;241;43m.\u001b[39;49m\u001b[43mget_loc\u001b[49m\u001b[43m(\u001b[49m\u001b[43mcasted_key\u001b[49m\u001b[43m)\u001b[49m\n\u001b[0;32m   3654\u001b[0m \u001b[38;5;28;01mexcept\u001b[39;00m \u001b[38;5;167;01mKeyError\u001b[39;00m \u001b[38;5;28;01mas\u001b[39;00m err:\n",
      "File \u001b[1;32m~\\AppData\\Local\\Programs\\Python\\Python310\\lib\\site-packages\\pandas\\_libs\\index.pyx:147\u001b[0m, in \u001b[0;36mpandas._libs.index.IndexEngine.get_loc\u001b[1;34m()\u001b[0m\n",
      "File \u001b[1;32m~\\AppData\\Local\\Programs\\Python\\Python310\\lib\\site-packages\\pandas\\_libs\\index.pyx:176\u001b[0m, in \u001b[0;36mpandas._libs.index.IndexEngine.get_loc\u001b[1;34m()\u001b[0m\n",
      "File \u001b[1;32mpandas\\_libs\\hashtable_class_helper.pxi:7080\u001b[0m, in \u001b[0;36mpandas._libs.hashtable.PyObjectHashTable.get_item\u001b[1;34m()\u001b[0m\n",
      "File \u001b[1;32mpandas\\_libs\\hashtable_class_helper.pxi:7088\u001b[0m, in \u001b[0;36mpandas._libs.hashtable.PyObjectHashTable.get_item\u001b[1;34m()\u001b[0m\n",
      "\u001b[1;31mKeyError\u001b[0m: 'Kilometer Run'",
      "\nThe above exception was the direct cause of the following exception:\n",
      "\u001b[1;31mKeyError\u001b[0m                                  Traceback (most recent call last)",
      "Cell \u001b[1;32mIn[41], line 1\u001b[0m\n\u001b[1;32m----> 1\u001b[0m df[\u001b[38;5;124m'\u001b[39m\u001b[38;5;124mKM_run\u001b[39m\u001b[38;5;124m'\u001b[39m] \u001b[38;5;241m=\u001b[39m pd\u001b[38;5;241m.\u001b[39mto_numeric(\u001b[43mdf\u001b[49m\u001b[43m[\u001b[49m\u001b[38;5;124;43m'\u001b[39;49m\u001b[38;5;124;43mKilometer Run\u001b[39;49m\u001b[38;5;124;43m'\u001b[39;49m\u001b[43m]\u001b[49m)\n",
      "File \u001b[1;32m~\\AppData\\Local\\Programs\\Python\\Python310\\lib\\site-packages\\pandas\\core\\frame.py:3761\u001b[0m, in \u001b[0;36mDataFrame.__getitem__\u001b[1;34m(self, key)\u001b[0m\n\u001b[0;32m   3759\u001b[0m \u001b[38;5;28;01mif\u001b[39;00m \u001b[38;5;28mself\u001b[39m\u001b[38;5;241m.\u001b[39mcolumns\u001b[38;5;241m.\u001b[39mnlevels \u001b[38;5;241m>\u001b[39m \u001b[38;5;241m1\u001b[39m:\n\u001b[0;32m   3760\u001b[0m     \u001b[38;5;28;01mreturn\u001b[39;00m \u001b[38;5;28mself\u001b[39m\u001b[38;5;241m.\u001b[39m_getitem_multilevel(key)\n\u001b[1;32m-> 3761\u001b[0m indexer \u001b[38;5;241m=\u001b[39m \u001b[38;5;28;43mself\u001b[39;49m\u001b[38;5;241;43m.\u001b[39;49m\u001b[43mcolumns\u001b[49m\u001b[38;5;241;43m.\u001b[39;49m\u001b[43mget_loc\u001b[49m\u001b[43m(\u001b[49m\u001b[43mkey\u001b[49m\u001b[43m)\u001b[49m\n\u001b[0;32m   3762\u001b[0m \u001b[38;5;28;01mif\u001b[39;00m is_integer(indexer):\n\u001b[0;32m   3763\u001b[0m     indexer \u001b[38;5;241m=\u001b[39m [indexer]\n",
      "File \u001b[1;32m~\\AppData\\Local\\Programs\\Python\\Python310\\lib\\site-packages\\pandas\\core\\indexes\\base.py:3655\u001b[0m, in \u001b[0;36mIndex.get_loc\u001b[1;34m(self, key)\u001b[0m\n\u001b[0;32m   3653\u001b[0m     \u001b[38;5;28;01mreturn\u001b[39;00m \u001b[38;5;28mself\u001b[39m\u001b[38;5;241m.\u001b[39m_engine\u001b[38;5;241m.\u001b[39mget_loc(casted_key)\n\u001b[0;32m   3654\u001b[0m \u001b[38;5;28;01mexcept\u001b[39;00m \u001b[38;5;167;01mKeyError\u001b[39;00m \u001b[38;5;28;01mas\u001b[39;00m err:\n\u001b[1;32m-> 3655\u001b[0m     \u001b[38;5;28;01mraise\u001b[39;00m \u001b[38;5;167;01mKeyError\u001b[39;00m(key) \u001b[38;5;28;01mfrom\u001b[39;00m \u001b[38;5;21;01merr\u001b[39;00m\n\u001b[0;32m   3656\u001b[0m \u001b[38;5;28;01mexcept\u001b[39;00m \u001b[38;5;167;01mTypeError\u001b[39;00m:\n\u001b[0;32m   3657\u001b[0m     \u001b[38;5;66;03m# If we have a listlike key, _check_indexing_error will raise\u001b[39;00m\n\u001b[0;32m   3658\u001b[0m     \u001b[38;5;66;03m#  InvalidIndexError. Otherwise we fall through and re-raise\u001b[39;00m\n\u001b[0;32m   3659\u001b[0m     \u001b[38;5;66;03m#  the TypeError.\u001b[39;00m\n\u001b[0;32m   3660\u001b[0m     \u001b[38;5;28mself\u001b[39m\u001b[38;5;241m.\u001b[39m_check_indexing_error(key)\n",
      "\u001b[1;31mKeyError\u001b[0m: 'Kilometer Run'"
     ]
    }
   ],
   "source": [
    "df['KM_run'] = pd.to_numeric(df['Kilometer Run'])"
   ]
  },
  {
   "cell_type": "code",
   "execution_count": null,
   "id": "0b81d6ae",
   "metadata": {},
   "outputs": [],
   "source": [
    "df.isna().sum()"
   ]
  },
  {
   "cell_type": "code",
   "execution_count": 113,
   "id": "3fbffa1a",
   "metadata": {},
   "outputs": [
    {
     "data": {
      "text/html": [
       "<div>\n",
       "<style scoped>\n",
       "    .dataframe tbody tr th:only-of-type {\n",
       "        vertical-align: middle;\n",
       "    }\n",
       "\n",
       "    .dataframe tbody tr th {\n",
       "        vertical-align: top;\n",
       "    }\n",
       "\n",
       "    .dataframe thead th {\n",
       "        text-align: right;\n",
       "    }\n",
       "</style>\n",
       "<table border=\"1\" class=\"dataframe\">\n",
       "  <thead>\n",
       "    <tr style=\"text-align: right;\">\n",
       "      <th></th>\n",
       "      <th>Name</th>\n",
       "      <th>Price</th>\n",
       "      <th>Used For</th>\n",
       "      <th>Transmisson</th>\n",
       "      <th>Colour</th>\n",
       "      <th>Make Year</th>\n",
       "      <th>Mileage</th>\n",
       "      <th>Engine (CC)</th>\n",
       "      <th>Fuel</th>\n",
       "      <th>Kilometer Run</th>\n",
       "    </tr>\n",
       "  </thead>\n",
       "  <tbody>\n",
       "    <tr>\n",
       "      <th>count</th>\n",
       "      <td>848</td>\n",
       "      <td>848</td>\n",
       "      <td>357</td>\n",
       "      <td>848</td>\n",
       "      <td>848</td>\n",
       "      <td>848</td>\n",
       "      <td>458</td>\n",
       "      <td>741</td>\n",
       "      <td>848</td>\n",
       "      <td>848</td>\n",
       "    </tr>\n",
       "    <tr>\n",
       "      <th>unique</th>\n",
       "      <td>832</td>\n",
       "      <td>316</td>\n",
       "      <td>183</td>\n",
       "      <td>10</td>\n",
       "      <td>182</td>\n",
       "      <td>40</td>\n",
       "      <td>87</td>\n",
       "      <td>140</td>\n",
       "      <td>4</td>\n",
       "      <td>248</td>\n",
       "    </tr>\n",
       "    <tr>\n",
       "      <th>top</th>\n",
       "      <td>Hyundai Creta (Hyundai)</td>\n",
       "      <td>रू. 15,00,000</td>\n",
       "      <td>personal</td>\n",
       "      <td>Manual - 2WD</td>\n",
       "      <td>white</td>\n",
       "      <td>2016</td>\n",
       "      <td>15</td>\n",
       "      <td>1200</td>\n",
       "      <td>Petrol</td>\n",
       "      <td>50000</td>\n",
       "    </tr>\n",
       "    <tr>\n",
       "      <th>freq</th>\n",
       "      <td>5</td>\n",
       "      <td>19</td>\n",
       "      <td>23</td>\n",
       "      <td>297</td>\n",
       "      <td>144</td>\n",
       "      <td>80</td>\n",
       "      <td>62</td>\n",
       "      <td>160</td>\n",
       "      <td>604</td>\n",
       "      <td>142</td>\n",
       "    </tr>\n",
       "  </tbody>\n",
       "</table>\n",
       "</div>"
      ],
      "text/plain": [
       "                           Name          Price  Used For   Transmisson Colour  \\\n",
       "count                       848            848       357           848    848   \n",
       "unique                      832            316       183            10    182   \n",
       "top     Hyundai Creta (Hyundai)  रू. 15,00,000  personal  Manual - 2WD  white   \n",
       "freq                          5             19        23           297    144   \n",
       "\n",
       "       Make Year Mileage Engine (CC)    Fuel  Kilometer Run  \n",
       "count        848     458         741     848            848  \n",
       "unique        40      87         140       4            248  \n",
       "top         2016      15        1200  Petrol          50000  \n",
       "freq          80      62         160     604            142  "
      ]
     },
     "execution_count": 113,
     "metadata": {},
     "output_type": "execute_result"
    }
   ],
   "source": [
    "df.describe()"
   ]
  },
  {
   "cell_type": "markdown",
   "id": "a25e58fe",
   "metadata": {},
   "source": [
    "similarly replacing all engine cc with 1200 as it is the top"
   ]
  },
  {
   "cell_type": "code",
   "execution_count": 139,
   "id": "aa829416",
   "metadata": {},
   "outputs": [
    {
     "ename": "TypeError",
     "evalue": "bad operand type for unary ~: 'float'",
     "output_type": "error",
     "traceback": [
      "\u001b[1;31m---------------------------------------------------------------------------\u001b[0m",
      "\u001b[1;31mTypeError\u001b[0m                                 Traceback (most recent call last)",
      "Cell \u001b[1;32mIn[139], line 3\u001b[0m\n\u001b[0;32m      1\u001b[0m substring \u001b[38;5;241m=\u001b[39m \u001b[38;5;124m'\u001b[39m\u001b[38;5;124mcc\u001b[39m\u001b[38;5;124m'\u001b[39m\n\u001b[0;32m      2\u001b[0m \u001b[38;5;28mfilter\u001b[39m \u001b[38;5;241m=\u001b[39m df[\u001b[38;5;124m'\u001b[39m\u001b[38;5;124mMileage\u001b[39m\u001b[38;5;124m'\u001b[39m]\u001b[38;5;241m.\u001b[39mstr\u001b[38;5;241m.\u001b[39mcontains(substring)\n\u001b[1;32m----> 3\u001b[0m df \u001b[38;5;241m=\u001b[39m df[\u001b[38;5;241;43m~\u001b[39;49m\u001b[38;5;28;43mfilter\u001b[39;49m]\n",
      "File \u001b[1;32m~\\AppData\\Local\\Programs\\Python\\Python310\\lib\\site-packages\\pandas\\core\\generic.py:1461\u001b[0m, in \u001b[0;36mNDFrame.__invert__\u001b[1;34m(self)\u001b[0m\n\u001b[0;32m   1457\u001b[0m \u001b[38;5;28;01mif\u001b[39;00m \u001b[38;5;129;01mnot\u001b[39;00m \u001b[38;5;28mself\u001b[39m\u001b[38;5;241m.\u001b[39msize:\n\u001b[0;32m   1458\u001b[0m     \u001b[38;5;66;03m# inv fails with 0 len\u001b[39;00m\n\u001b[0;32m   1459\u001b[0m     \u001b[38;5;28;01mreturn\u001b[39;00m \u001b[38;5;28mself\u001b[39m\u001b[38;5;241m.\u001b[39mcopy(deep\u001b[38;5;241m=\u001b[39m\u001b[38;5;28;01mFalse\u001b[39;00m)\n\u001b[1;32m-> 1461\u001b[0m new_data \u001b[38;5;241m=\u001b[39m \u001b[38;5;28;43mself\u001b[39;49m\u001b[38;5;241;43m.\u001b[39;49m\u001b[43m_mgr\u001b[49m\u001b[38;5;241;43m.\u001b[39;49m\u001b[43mapply\u001b[49m\u001b[43m(\u001b[49m\u001b[43moperator\u001b[49m\u001b[38;5;241;43m.\u001b[39;49m\u001b[43minvert\u001b[49m\u001b[43m)\u001b[49m\n\u001b[0;32m   1462\u001b[0m \u001b[38;5;28;01mreturn\u001b[39;00m \u001b[38;5;28mself\u001b[39m\u001b[38;5;241m.\u001b[39m_constructor(new_data)\u001b[38;5;241m.\u001b[39m__finalize__(\u001b[38;5;28mself\u001b[39m, method\u001b[38;5;241m=\u001b[39m\u001b[38;5;124m\"\u001b[39m\u001b[38;5;124m__invert__\u001b[39m\u001b[38;5;124m\"\u001b[39m)\n",
      "File \u001b[1;32m~\\AppData\\Local\\Programs\\Python\\Python310\\lib\\site-packages\\pandas\\core\\internals\\managers.py:350\u001b[0m, in \u001b[0;36mBaseBlockManager.apply\u001b[1;34m(self, f, align_keys, **kwargs)\u001b[0m\n\u001b[0;32m    347\u001b[0m             kwargs[k] \u001b[38;5;241m=\u001b[39m obj[b\u001b[38;5;241m.\u001b[39mmgr_locs\u001b[38;5;241m.\u001b[39mindexer]\n\u001b[0;32m    349\u001b[0m \u001b[38;5;28;01mif\u001b[39;00m \u001b[38;5;28mcallable\u001b[39m(f):\n\u001b[1;32m--> 350\u001b[0m     applied \u001b[38;5;241m=\u001b[39m b\u001b[38;5;241m.\u001b[39mapply(f, \u001b[38;5;241m*\u001b[39m\u001b[38;5;241m*\u001b[39mkwargs)\n\u001b[0;32m    351\u001b[0m \u001b[38;5;28;01melse\u001b[39;00m:\n\u001b[0;32m    352\u001b[0m     applied \u001b[38;5;241m=\u001b[39m \u001b[38;5;28mgetattr\u001b[39m(b, f)(\u001b[38;5;241m*\u001b[39m\u001b[38;5;241m*\u001b[39mkwargs)\n",
      "File \u001b[1;32m~\\AppData\\Local\\Programs\\Python\\Python310\\lib\\site-packages\\pandas\\core\\internals\\blocks.py:329\u001b[0m, in \u001b[0;36mBlock.apply\u001b[1;34m(self, func, **kwargs)\u001b[0m\n\u001b[0;32m    323\u001b[0m \u001b[38;5;129m@final\u001b[39m\n\u001b[0;32m    324\u001b[0m \u001b[38;5;28;01mdef\u001b[39;00m \u001b[38;5;21mapply\u001b[39m(\u001b[38;5;28mself\u001b[39m, func, \u001b[38;5;241m*\u001b[39m\u001b[38;5;241m*\u001b[39mkwargs) \u001b[38;5;241m-\u001b[39m\u001b[38;5;241m>\u001b[39m \u001b[38;5;28mlist\u001b[39m[Block]:\n\u001b[0;32m    325\u001b[0m \u001b[38;5;250m    \u001b[39m\u001b[38;5;124;03m\"\"\"\u001b[39;00m\n\u001b[0;32m    326\u001b[0m \u001b[38;5;124;03m    apply the function to my values; return a block if we are not\u001b[39;00m\n\u001b[0;32m    327\u001b[0m \u001b[38;5;124;03m    one\u001b[39;00m\n\u001b[0;32m    328\u001b[0m \u001b[38;5;124;03m    \"\"\"\u001b[39;00m\n\u001b[1;32m--> 329\u001b[0m     result \u001b[38;5;241m=\u001b[39m func(\u001b[38;5;28mself\u001b[39m\u001b[38;5;241m.\u001b[39mvalues, \u001b[38;5;241m*\u001b[39m\u001b[38;5;241m*\u001b[39mkwargs)\n\u001b[0;32m    331\u001b[0m     \u001b[38;5;28;01mreturn\u001b[39;00m \u001b[38;5;28mself\u001b[39m\u001b[38;5;241m.\u001b[39m_split_op_result(result)\n",
      "\u001b[1;31mTypeError\u001b[0m: bad operand type for unary ~: 'float'"
     ]
    }
   ],
   "source": [
    "substring = 'cc'\n",
    "def\n",
    "filter = df['Mileage'].str.contains(substring)\n",
    "df = df"
   ]
  },
  {
   "cell_type": "code",
   "execution_count": 115,
   "id": "9b89213d",
   "metadata": {},
   "outputs": [
    {
     "data": {
      "text/plain": [
       "Name               0\n",
       "Price              0\n",
       "Used For         491\n",
       "Transmisson        0\n",
       "Colour             0\n",
       "Make Year          0\n",
       "Mileage          390\n",
       "Engine (CC)        0\n",
       "Fuel               0\n",
       "Kilometer Run      0\n",
       "dtype: int64"
      ]
     },
     "execution_count": 115,
     "metadata": {},
     "output_type": "execute_result"
    }
   ],
   "source": [
    "df.isna().sum()"
   ]
  },
  {
   "cell_type": "code",
   "execution_count": 117,
   "id": "722bdf33",
   "metadata": {},
   "outputs": [
    {
     "data": {
      "text/plain": [
       "Name               0\n",
       "Price              0\n",
       "Used For         491\n",
       "Transmisson        0\n",
       "Colour             0\n",
       "Make Year          0\n",
       "Mileage            0\n",
       "Engine (CC)        0\n",
       "Fuel               0\n",
       "Kilometer Run      0\n",
       "dtype: int64"
      ]
     },
     "execution_count": 117,
     "metadata": {},
     "output_type": "execute_result"
    }
   ],
   "source": [
    "df.isna().sum()"
   ]
  },
  {
   "cell_type": "code",
   "execution_count": 118,
   "id": "efd4e95e",
   "metadata": {},
   "outputs": [
    {
     "data": {
      "text/html": [
       "<div>\n",
       "<style scoped>\n",
       "    .dataframe tbody tr th:only-of-type {\n",
       "        vertical-align: middle;\n",
       "    }\n",
       "\n",
       "    .dataframe tbody tr th {\n",
       "        vertical-align: top;\n",
       "    }\n",
       "\n",
       "    .dataframe thead th {\n",
       "        text-align: right;\n",
       "    }\n",
       "</style>\n",
       "<table border=\"1\" class=\"dataframe\">\n",
       "  <thead>\n",
       "    <tr style=\"text-align: right;\">\n",
       "      <th></th>\n",
       "      <th>Name</th>\n",
       "      <th>Price</th>\n",
       "      <th>Used For</th>\n",
       "      <th>Transmisson</th>\n",
       "      <th>Colour</th>\n",
       "      <th>Make Year</th>\n",
       "      <th>Mileage</th>\n",
       "      <th>Engine (CC)</th>\n",
       "      <th>Fuel</th>\n",
       "      <th>Kilometer Run</th>\n",
       "    </tr>\n",
       "  </thead>\n",
       "  <tbody>\n",
       "    <tr>\n",
       "      <th>843</th>\n",
       "      <td>Hyundai grand i10 (Hyundai)</td>\n",
       "      <td>रू. 24,50,000</td>\n",
       "      <td>2 years</td>\n",
       "      <td>Manual - 2WD</td>\n",
       "      <td>silver</td>\n",
       "      <td>2020</td>\n",
       "      <td>2025</td>\n",
       "      <td>1200</td>\n",
       "      <td>Petrol</td>\n",
       "      <td>26500</td>\n",
       "    </tr>\n",
       "    <tr>\n",
       "      <th>844</th>\n",
       "      <td>Well maintained car. Everything is fine. Singl...</td>\n",
       "      <td>रू. 19,25,000</td>\n",
       "      <td>6 years</td>\n",
       "      <td>Manual2WD</td>\n",
       "      <td>Navy blue</td>\n",
       "      <td>2015</td>\n",
       "      <td>15</td>\n",
       "      <td>1200</td>\n",
       "      <td>Petrol</td>\n",
       "      <td>60000</td>\n",
       "    </tr>\n",
       "    <tr>\n",
       "      <th>845</th>\n",
       "      <td>VW Polo 2014 Highline 1200 (Renault)</td>\n",
       "      <td>रू. 19,50,000</td>\n",
       "      <td>7</td>\n",
       "      <td>Manual2WD</td>\n",
       "      <td>Carbon Steel ( Dark Grey)</td>\n",
       "      <td>2014</td>\n",
       "      <td>12 to 14</td>\n",
       "      <td>1200</td>\n",
       "      <td>Petrol</td>\n",
       "      <td>60000</td>\n",
       "    </tr>\n",
       "    <tr>\n",
       "      <th>846</th>\n",
       "      <td>Hyundai i10 magna 2014 (Hyundai)</td>\n",
       "      <td>रू. 17,50,000</td>\n",
       "      <td>NaN</td>\n",
       "      <td>Manual - 2WD</td>\n",
       "      <td>silver</td>\n",
       "      <td>2014</td>\n",
       "      <td>15</td>\n",
       "      <td>1200</td>\n",
       "      <td>Petrol</td>\n",
       "      <td>93000</td>\n",
       "    </tr>\n",
       "    <tr>\n",
       "      <th>847</th>\n",
       "      <td>nissan xtrail 2007 model for sale or exchange ...</td>\n",
       "      <td>रू. 24,50,000</td>\n",
       "      <td>private use</td>\n",
       "      <td>Auto - 4WD</td>\n",
       "      <td>cream</td>\n",
       "      <td>2007</td>\n",
       "      <td>13</td>\n",
       "      <td>2200</td>\n",
       "      <td>Diesel</td>\n",
       "      <td>60000</td>\n",
       "    </tr>\n",
       "  </tbody>\n",
       "</table>\n",
       "</div>"
      ],
      "text/plain": [
       "                                                  Name          Price  \\\n",
       "843                        Hyundai grand i10 (Hyundai)  रू. 24,50,000   \n",
       "844  Well maintained car. Everything is fine. Singl...  रू. 19,25,000   \n",
       "845               VW Polo 2014 Highline 1200 (Renault)  रू. 19,50,000   \n",
       "846                   Hyundai i10 magna 2014 (Hyundai)  रू. 17,50,000   \n",
       "847  nissan xtrail 2007 model for sale or exchange ...  रू. 24,50,000   \n",
       "\n",
       "        Used For   Transmisson                     Colour Make Year   Mileage  \\\n",
       "843      2 years  Manual - 2WD                     silver      2020      2025   \n",
       "844      6 years     Manual2WD                  Navy blue      2015        15   \n",
       "845            7     Manual2WD  Carbon Steel ( Dark Grey)      2014  12 to 14   \n",
       "846          NaN  Manual - 2WD                     silver      2014        15   \n",
       "847  private use    Auto - 4WD                      cream      2007        13   \n",
       "\n",
       "    Engine (CC)    Fuel Kilometer Run  \n",
       "843        1200  Petrol         26500  \n",
       "844        1200  Petrol         60000  \n",
       "845        1200  Petrol         60000  \n",
       "846        1200  Petrol         93000  \n",
       "847        2200  Diesel         60000  "
      ]
     },
     "execution_count": 118,
     "metadata": {},
     "output_type": "execute_result"
    }
   ],
   "source": [
    "df.tail()"
   ]
  },
  {
   "cell_type": "code",
   "execution_count": 27,
   "id": "ac242384",
   "metadata": {},
   "outputs": [
    {
     "data": {
      "text/plain": [
       "Name\n",
       "Hyundai Creta (Hyundai)                                         5\n",
       "Toyota Hilux (Toyota)                                           3\n",
       "MG ZS EV 2021 model (Other Brands)                              2\n",
       "Kia van (Kia)                                                   2\n",
       "Santro (Hyundai)                                                2\n",
       "                                                               ..\n",
       "Fresh, single handed, driven by doctor i10 sportz (Hyundai)     1\n",
       "KIA SPORTAG on sale (Kia)                                       1\n",
       "Hyundai tucson 1991 CC Fully loaded Four wheel 4×4 (Hyundai)    1\n",
       "Sonata (Hyundai)                                                1\n",
       "nissan xtrail 2007 model for sale or exchange (Nissan)          1\n",
       "Name: count, Length: 832, dtype: int64"
      ]
     },
     "execution_count": 27,
     "metadata": {},
     "output_type": "execute_result"
    }
   ],
   "source": [
    "df['Name'].value_counts()"
   ]
  },
  {
   "cell_type": "code",
   "execution_count": 28,
   "id": "a15a2ea6",
   "metadata": {},
   "outputs": [
    {
     "data": {
      "text/plain": [
       "Engine (CC)\n",
       "1200    160\n",
       "1500     47\n",
       "1600     41\n",
       "800      39\n",
       "1000     36\n",
       "       ... \n",
       "1186      1\n",
       "700       1\n",
       "4898      1\n",
       "2700      1\n",
       "4         1\n",
       "Name: count, Length: 140, dtype: int64"
      ]
     },
     "execution_count": 28,
     "metadata": {},
     "output_type": "execute_result"
    }
   ],
   "source": [
    "df['Engine (CC)'].value_counts()"
   ]
  },
  {
   "cell_type": "code",
   "execution_count": null,
   "id": "489863f0",
   "metadata": {},
   "outputs": [],
   "source": [
    "def remove_kmrun(x):\n",
    "    return len(x['Kilometer Run']) == 1\n",
    "df = df[~df.apply(remove_kmrun, axis=1)]"
   ]
  }
 ],
 "metadata": {
  "kernelspec": {
   "display_name": "Python 3 (ipykernel)",
   "language": "python",
   "name": "python3"
  },
  "language_info": {
   "codemirror_mode": {
    "name": "ipython",
    "version": 3
   },
   "file_extension": ".py",
   "mimetype": "text/x-python",
   "name": "python",
   "nbconvert_exporter": "python",
   "pygments_lexer": "ipython3",
   "version": "3.10.11"
  }
 },
 "nbformat": 4,
 "nbformat_minor": 5
}
