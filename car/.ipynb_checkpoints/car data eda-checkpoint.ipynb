{
 "cells": [
  {
   "cell_type": "code",
   "execution_count": 1,
   "id": "0cd10af2",
   "metadata": {},
   "outputs": [],
   "source": [
    "import pandas as pd"
   ]
  },
  {
   "cell_type": "code",
   "execution_count": 2,
   "id": "a3512381",
   "metadata": {},
   "outputs": [],
   "source": [
    "df = pd.read_csv(\"car.csv\")"
   ]
  },
  {
   "cell_type": "code",
   "execution_count": 3,
   "id": "85ee3d82",
   "metadata": {},
   "outputs": [],
   "source": [
    "df.head()"
   ]
  },
  {
   "cell_type": "code",
   "execution_count": 4,
   "id": "8431a30f",
   "metadata": {},
   "outputs": [],
   "source": [
    "df.info()"
   ]
  },
  {
   "cell_type": "code",
   "execution_count": 5,
   "id": "b9d8973d",
   "metadata": {},
   "outputs": [],
   "source": [
    "df.isna().sum()/len(df) *100"
   ]
  },
  {
   "cell_type": "code",
   "execution_count": 6,
   "id": "4fc43d86",
   "metadata": {},
   "outputs": [],
   "source": [
    "import seaborn as sns\n",
    "sns.heatmap(df.isna().transpose())"
   ]
  },
  {
   "cell_type": "code",
   "execution_count": 7,
   "id": "84d4d9ed",
   "metadata": {},
   "outputs": [],
   "source": [
    "df.drop(columns = ['Types'],inplace=True)\n",
    "df.drop(columns = ['Waranty'],inplace=True)"
   ]
  },
  {
   "cell_type": "code",
   "execution_count": 8,
   "id": "bb0ef3a6",
   "metadata": {},
   "outputs": [],
   "source": [
    "df.tail(72)"
   ]
  },
  {
   "cell_type": "code",
   "execution_count": 9,
   "id": "a14ce3fb",
   "metadata": {},
   "outputs": [],
   "source": [
    "df.drop(df.index[777], inplace=True)"
   ]
  },
  {
   "cell_type": "code",
   "execution_count": 10,
   "id": "96bacabc",
   "metadata": {},
   "outputs": [],
   "source": [
    "df.head()"
   ]
  },
  {
   "cell_type": "code",
   "execution_count": 11,
   "id": "6d21c658",
   "metadata": {},
   "outputs": [],
   "source": [
    "df.isna().sum()"
   ]
  },
  {
   "cell_type": "code",
   "execution_count": 12,
   "id": "6f2359c4",
   "metadata": {},
   "outputs": [],
   "source": [
    "df['Colour'].describe()"
   ]
  },
  {
   "cell_type": "code",
   "execution_count": 13,
   "id": "ef64b9ec",
   "metadata": {},
   "outputs": [],
   "source": [
    "def fill_color(x):\n",
    "    if pd.isna(x):\n",
    "        return 'white'\n",
    "    return x\n",
    "df.Colour=df['Colour'].apply(fill_color)"
   ]
  },
  {
   "cell_type": "code",
   "execution_count": 14,
   "id": "eace54ab",
   "metadata": {},
   "outputs": [],
   "source": [
    "df.isna().sum()"
   ]
  },
  {
   "cell_type": "code",
   "execution_count": 15,
   "id": "41ce556a",
   "metadata": {},
   "outputs": [],
   "source": [
    "df.head()"
   ]
  },
  {
   "cell_type": "code",
   "execution_count": 16,
   "id": "a7399123",
   "metadata": {},
   "outputs": [],
   "source": [
    "df['Price'] = df['Price'].str.replace(r'\\D','',regex=True)"
   ]
  },
  {
   "cell_type": "code",
   "execution_count": 17,
   "id": "d35bdf96",
   "metadata": {},
   "outputs": [],
   "source": [
    "df.info()"
   ]
  },
  {
   "cell_type": "code",
   "execution_count": 18,
   "id": "132b46bf",
   "metadata": {},
   "outputs": [],
   "source": [
    "df.head()"
   ]
  },
  {
   "cell_type": "code",
   "execution_count": 19,
   "id": "a85ecfa7",
   "metadata": {},
   "outputs": [],
   "source": [
    "def remove_price(x):\n",
    "    return len(x['Price']) > 10 \n",
    "df = df[~df.apply(remove_price, axis=1)]"
   ]
  },
  {
   "cell_type": "code",
   "execution_count": 20,
   "id": "dd1c041f",
   "metadata": {},
   "outputs": [],
   "source": [
    "df.head()"
   ]
  },
  {
   "cell_type": "code",
   "execution_count": 21,
   "id": "a9270521",
   "metadata": {},
   "outputs": [],
   "source": [
    "def str_to_int(x):\n",
    "    return int(x)\n",
    "df.Price=df['Price'].apply(str_to_int)"
   ]
  },
  {
   "cell_type": "code",
   "execution_count": 22,
   "id": "e2745acb",
   "metadata": {},
   "outputs": [],
   "source": [
    "df.info()"
   ]
  },
  {
   "cell_type": "code",
   "execution_count": 23,
   "id": "4aee849a",
   "metadata": {},
   "outputs": [],
   "source": [
    "df.isna().sum()"
   ]
  },
  {
   "cell_type": "code",
   "execution_count": 24,
   "id": "cb1aea76",
   "metadata": {},
   "outputs": [],
   "source": [
    "df.describe()"
   ]
  },
  {
   "cell_type": "code",
   "execution_count": 25,
   "id": "fa709b7f",
   "metadata": {},
   "outputs": [],
   "source": [
    "df['Mileage'].describe()"
   ]
  },
  {
   "cell_type": "code",
   "execution_count": 26,
   "id": "17db537c",
   "metadata": {},
   "outputs": [],
   "source": [
    "def fill_mileage(x):\n",
    "    if pd.isna(x):\n",
    "        return 15\n",
    "    return x\n",
    "df['Mileage'] = df['Mileage'].apply(fill_mileage)"
   ]
  },
  {
   "cell_type": "code",
   "execution_count": 27,
   "id": "d01f9fb3",
   "metadata": {},
   "outputs": [],
   "source": [
    "def int_to_str(x):\n",
    "    return str(x)\n",
    "df.Mileage=df['Mileage'].apply(int_to_str)"
   ]
  },
  {
   "cell_type": "code",
   "execution_count": 28,
   "id": "4b7bef7a",
   "metadata": {},
   "outputs": [],
   "source": [
    "def remove_mileage(x):\n",
    "    return len(x['Mileage']) > 2\n",
    "df = df[~df.apply(remove_mileage, axis=1)]"
   ]
  },
  {
   "cell_type": "code",
   "execution_count": 29,
   "id": "9e8fb1db",
   "metadata": {},
   "outputs": [],
   "source": [
    "df.info()"
   ]
  },
  {
   "cell_type": "code",
   "execution_count": 30,
   "id": "7bbc1534",
   "metadata": {},
   "outputs": [],
   "source": [
    "df.Mileage=df['Mileage'].apply(str_to_int)"
   ]
  },
  {
   "cell_type": "code",
   "execution_count": 31,
   "id": "776e8c03",
   "metadata": {},
   "outputs": [],
   "source": [
    "df.info()"
   ]
  },
  {
   "cell_type": "code",
   "execution_count": 32,
   "id": "f7a27f83",
   "metadata": {},
   "outputs": [],
   "source": [
    "df['Kilometer Run'].describe()"
   ]
  },
  {
   "cell_type": "code",
   "execution_count": 33,
   "id": "7749f8ae",
   "metadata": {},
   "outputs": [],
   "source": [
    "def fill_kr(x):\n",
    "    if pd.isna(x):\n",
    "        return 50000\n",
    "    return x\n",
    "df['Kilometer Run'] = df['Kilometer Run'].apply(fill_kr)"
   ]
  },
  {
   "cell_type": "code",
   "execution_count": 34,
   "id": "80cd4a35",
   "metadata": {},
   "outputs": [],
   "source": [
    "df['Kilometer Run'] =df['Kilometer Run'].apply(int_to_str)"
   ]
  },
  {
   "cell_type": "code",
   "execution_count": 35,
   "id": "e8ab39da",
   "metadata": {},
   "outputs": [],
   "source": [
    "def remove_kmrun(x):\n",
    "    return len(x['Kilometer Run']) == 1\n",
    "df = df[~df.apply(remove_kmrun, axis=1)]"
   ]
  },
  {
   "cell_type": "code",
   "execution_count": 36,
   "id": "d84b25da",
   "metadata": {},
   "outputs": [],
   "source": [
    "df['Kilometer Run']= df['Kilometer Run'].apply(str_to_int)"
   ]
  },
  {
   "cell_type": "code",
   "execution_count": 37,
   "id": "81b820d0",
   "metadata": {},
   "outputs": [],
   "source": [
    "df.info()"
   ]
  },
  {
   "cell_type": "code",
   "execution_count": 38,
   "id": "c732ddc6",
   "metadata": {},
   "outputs": [],
   "source": [
    "df.isna().sum()/len(df)*100"
   ]
  },
  {
   "cell_type": "code",
   "execution_count": 39,
   "id": "2ab05f06",
   "metadata": {},
   "outputs": [],
   "source": [
    "df['Engine (CC)'].describe()"
   ]
  },
  {
   "cell_type": "code",
   "execution_count": 40,
   "id": "a88b03db",
   "metadata": {},
   "outputs": [],
   "source": [
    "def fill_cc(x):\n",
    "    if pd.isna(x):\n",
    "        return 1200\n",
    "    return x\n",
    "df['Engine (CC)'] = df['Engine (CC)'].apply(fill_kr)"
   ]
  },
  {
   "cell_type": "code",
   "execution_count": 41,
   "id": "77796f65",
   "metadata": {},
   "outputs": [],
   "source": [
    "df['Engine (CC)'] =df['Engine (CC)'].apply(int_to_str)"
   ]
  },
  {
   "cell_type": "code",
   "execution_count": 42,
   "id": "2b0bcfe9",
   "metadata": {},
   "outputs": [],
   "source": [
    "def remove_cc(x):\n",
    "    return len(x['Engine (CC)']) > 4\n",
    "df = df[~df.apply(remove_cc, axis=1)]"
   ]
  },
  {
   "cell_type": "code",
   "execution_count": 43,
   "id": "a470319f",
   "metadata": {},
   "outputs": [],
   "source": [
    "df['Engine (CC)'] = df['Engine (CC)'].str.upper()"
   ]
  },
  {
   "cell_type": "code",
   "execution_count": 44,
   "id": "8c4c0c7f",
   "metadata": {},
   "outputs": [],
   "source": [
    "substring = 'CC'\n",
    "df = df[~df['Engine (CC)'].str.contains(substring)]"
   ]
  },
  {
   "cell_type": "code",
   "execution_count": 45,
   "id": "8971df19",
   "metadata": {},
   "outputs": [],
   "source": [
    "substring = 'KW'\n",
    "df = df[~df['Engine (CC)'].str.contains(substring)]"
   ]
  },
  {
   "cell_type": "code",
   "execution_count": 46,
   "id": "d67174cc",
   "metadata": {},
   "outputs": [],
   "source": [
    "def str_to_float(x):\n",
    "    return float(x)"
   ]
  },
  {
   "cell_type": "code",
   "execution_count": 47,
   "id": "eefb535a",
   "metadata": {},
   "outputs": [],
   "source": [
    "df['Engine (CC)']= df['Engine (CC)'].apply(str_to_float)"
   ]
  },
  {
   "cell_type": "code",
   "execution_count": 48,
   "id": "63d54953",
   "metadata": {},
   "outputs": [],
   "source": [
    "df.info()"
   ]
  },
  {
   "cell_type": "code",
   "execution_count": 49,
   "id": "aeaa7bf4",
   "metadata": {},
   "outputs": [],
   "source": [
    "split_names = df['Name'].str.split('(', expand=True)\n",
    "df['Model'] = split_names[0]\n",
    "df['Brand'] = split_names[1]"
   ]
  },
  {
   "cell_type": "code",
   "execution_count": 50,
   "id": "9e34b661",
   "metadata": {},
   "outputs": [],
   "source": [
    "df.head()"
   ]
  },
  {
   "cell_type": "code",
   "execution_count": 51,
   "id": "fd5609c0",
   "metadata": {},
   "outputs": [],
   "source": [
    "df.drop(columns = ['Name'],inplace=True)"
   ]
  },
  {
   "cell_type": "code",
   "execution_count": 52,
   "id": "fc819289",
   "metadata": {},
   "outputs": [],
   "source": [
    "df.head()"
   ]
  },
  {
   "cell_type": "code",
   "execution_count": 53,
   "id": "15752912",
   "metadata": {},
   "outputs": [],
   "source": [
    "split_names = df['Brand'].str.split(')', expand=True)\n",
    "df['Brand'] = split_names[0]\n",
    "df['B'] = split_names[1]"
   ]
  },
  {
   "cell_type": "code",
   "execution_count": 54,
   "id": "8fe951c1",
   "metadata": {},
   "outputs": [],
   "source": [
    "df.head()"
   ]
  },
  {
   "cell_type": "code",
   "execution_count": 55,
   "id": "7d36b8af",
   "metadata": {},
   "outputs": [],
   "source": [
    "df.drop(columns = ['B'],inplace=True)"
   ]
  },
  {
   "cell_type": "code",
   "execution_count": 56,
   "id": "9f2c7343",
   "metadata": {},
   "outputs": [],
   "source": [
    "df.head()"
   ]
  },
  {
   "cell_type": "code",
   "execution_count": 57,
   "id": "9fe3e12e",
   "metadata": {},
   "outputs": [],
   "source": [
    "df['Brand'].unique()"
   ]
  },
  {
   "cell_type": "code",
   "execution_count": 58,
   "id": "98ea183d",
   "metadata": {},
   "outputs": [],
   "source": [
    "df.info()"
   ]
  },
  {
   "cell_type": "code",
   "execution_count": 59,
   "id": "27c180b4",
   "metadata": {},
   "outputs": [],
   "source": [
    "df['Used For'].describe()"
   ]
  },
  {
   "cell_type": "code",
   "execution_count": 60,
   "id": "562abc8e",
   "metadata": {},
   "outputs": [],
   "source": [
    "df.drop(columns = ['Used For'],inplace=True)"
   ]
  },
  {
   "cell_type": "code",
   "execution_count": 61,
   "id": "60a9d4c8",
   "metadata": {},
   "outputs": [],
   "source": [
    "df.info()"
   ]
  },
  {
   "cell_type": "code",
   "execution_count": 62,
   "id": "50c2e6cb",
   "metadata": {},
   "outputs": [],
   "source": [
    "df.dropna(inplace = True)"
   ]
  },
  {
   "cell_type": "code",
   "execution_count": 63,
   "id": "08592b88",
   "metadata": {},
   "outputs": [],
   "source": [
    "df.info()"
   ]
  },
  {
   "cell_type": "code",
   "execution_count": 64,
   "id": "f546ca70",
   "metadata": {},
   "outputs": [],
   "source": [
    "df.describe()"
   ]
  },
  {
   "cell_type": "code",
   "execution_count": 65,
   "id": "3e95e337",
   "metadata": {},
   "outputs": [],
   "source": [
    "# Define a function to remove outliers using IQR method\n",
    "def remove_outliers_iqr(df, column):\n",
    "    Q1 = df[column].quantile(0.25)\n",
    "    Q3 = df[column].quantile(0.75)\n",
    "    IQR = Q3 - Q1\n",
    "    lower_bound = Q1 - 1.5 * IQR\n",
    "    upper_bound = Q3 + 1.5 * IQR\n",
    "    return df[(df[column] >= lower_bound) & (df[column] <= upper_bound)]\n",
    "\n",
    "# Remove outliers from all column\n",
    "df = remove_outliers_iqr(df, 'Engine (CC)')\n",
    "df = remove_outliers_iqr(df, 'Price')\n",
    "df = remove_outliers_iqr(df, 'Kilometer Run')\n",
    "df = remove_outliers_iqr(df, 'Mileage')"
   ]
  },
  {
   "cell_type": "code",
   "execution_count": 66,
   "id": "e9a2556f",
   "metadata": {},
   "outputs": [],
   "source": [
    "df.info()"
   ]
  },
  {
   "cell_type": "code",
   "execution_count": 67,
   "id": "b0eeabc8",
   "metadata": {},
   "outputs": [],
   "source": [
    "df.describe()"
   ]
  },
  {
   "cell_type": "code",
   "execution_count": 68,
   "id": "c5f57fe8",
   "metadata": {},
   "outputs": [],
   "source": [
    "df.head()"
   ]
  },
  {
   "cell_type": "code",
   "execution_count": null,
   "id": "b4700751",
   "metadata": {},
   "outputs": [],
   "source": []
  },
  {
   "cell_type": "code",
   "execution_count": null,
   "id": "7e980646",
   "metadata": {},
   "outputs": [],
   "source": []
  },
  {
   "cell_type": "code",
   "execution_count": null,
   "id": "d758baca",
   "metadata": {},
   "outputs": [],
   "source": []
  },
  {
   "cell_type": "code",
   "execution_count": 69,
   "id": "35013359",
   "metadata": {},
   "outputs": [],
   "source": [
    "df.isna().sum()"
   ]
  },
  {
   "cell_type": "code",
   "execution_count": 70,
   "id": "d35c4e8e",
   "metadata": {},
   "outputs": [],
   "source": [
    "df['Make Year'].unique()"
   ]
  },
  {
   "cell_type": "code",
   "execution_count": 71,
   "id": "0315c40f",
   "metadata": {},
   "outputs": [],
   "source": [
    "df['Make Year'].describe()"
   ]
  },
  {
   "cell_type": "code",
   "execution_count": 72,
   "id": "674ac02f",
   "metadata": {},
   "outputs": [],
   "source": [
    "def remove_my(x):\n",
    "    return len(x['Make Year']) > 4\n",
    "df = df[~df.apply(remove_my, axis=1)]"
   ]
  },
  {
   "cell_type": "code",
   "execution_count": 73,
   "id": "c9adf3b6",
   "metadata": {},
   "outputs": [],
   "source": [
    "df['Make Year']= df['Make Year'].apply(str_to_int)"
   ]
  },
  {
   "cell_type": "code",
   "execution_count": 74,
   "id": "b4dbc0ac",
   "metadata": {},
   "outputs": [],
   "source": [
    "df.info()"
   ]
  },
  {
   "cell_type": "code",
   "execution_count": 75,
   "id": "faf79ed6",
   "metadata": {},
   "outputs": [],
   "source": [
    "df.describe()"
   ]
  },
  {
   "cell_type": "code",
   "execution_count": 76,
   "id": "755d100b",
   "metadata": {},
   "outputs": [],
   "source": [
    "df = remove_outliers_iqr(df, 'Make Year')"
   ]
  },
  {
   "cell_type": "code",
   "execution_count": 77,
   "id": "9f3d84fe",
   "metadata": {},
   "outputs": [],
   "source": [
    "df.describe()"
   ]
  },
  {
   "cell_type": "markdown",
   "id": "292e0fc9",
   "metadata": {},
   "source": [
    "# EDA"
   ]
  },
  {
   "cell_type": "markdown",
   "id": "51a62f74",
   "metadata": {},
   "source": [
    "## Is there any relationship between mileage and Make year?"
   ]
  },
  {
   "cell_type": "code",
   "execution_count": 78,
   "id": "7ad7cd22",
   "metadata": {},
   "outputs": [],
   "source": [
    "df['Mileage'].unique()"
   ]
  },
  {
   "cell_type": "code",
   "execution_count": 79,
   "id": "4fef7aa4",
   "metadata": {},
   "outputs": [],
   "source": [
    "df['Make Year'].unique()"
   ]
  },
  {
   "cell_type": "code",
   "execution_count": 80,
   "id": "ff34e11c",
   "metadata": {},
   "outputs": [],
   "source": [
    "import matplotlib.pyplot as plt\n",
    "import plotly.express as px\n",
    "fig = plt.figure(figsize=(20,5))\n",
    "sns.countplot(data=df, x='Make Year',hue='Mileage')"
   ]
  },
  {
   "cell_type": "code",
   "execution_count": 81,
   "id": "850d798b",
   "metadata": {},
   "outputs": [],
   "source": [
    "sns.pairplot(data=df,hue='Mileage')"
   ]
  },
  {
   "cell_type": "code",
   "execution_count": 82,
   "id": "8e8d5029",
   "metadata": {},
   "outputs": [],
   "source": [
    "df['Price'].unique()"
   ]
  },
  {
   "cell_type": "code",
   "execution_count": null,
   "id": "b87d3c8d",
   "metadata": {},
   "outputs": [],
   "source": [
    "sns.pairplot(data=df,hue='Price')"
   ]
  },
  {
   "cell_type": "code",
   "execution_count": null,
   "id": "d417d642",
   "metadata": {},
   "outputs": [],
   "source": [
    "pd.plotting.scatter_matrix(df, alpha=0.2)\n",
    "plt.show()"
   ]
  },
  {
   "cell_type": "code",
   "execution_count": null,
   "id": "1ec612cd",
   "metadata": {},
   "outputs": [],
   "source": [
    "df.columns"
   ]
  },
  {
   "cell_type": "code",
   "execution_count": null,
   "id": "f249ed5a",
   "metadata": {},
   "outputs": [],
   "source": [
    "from sklearn.model_selection import train_test_split\n",
    "from sklearn.ensemble import RandomForestRegressor\n",
    "from sklearn.metrics import mean_squared_error\n",
    "X = df[['Make Year','Mileage','Engine (CC)','Kilometer Run']]\n",
    "y = df['Price']"
   ]
  },
  {
   "cell_type": "code",
   "execution_count": null,
   "id": "738d1712",
   "metadata": {},
   "outputs": [],
   "source": [
    "X_train, X_test, y_train, y_test = train_test_split(X, y, test_size=0.2, random_state=42)\n",
    "model = RandomForestRegressor(n_estimators=100, random_state=42)\n",
    "model.fit(X_train, y_train)"
   ]
  },
  {
   "cell_type": "code",
   "execution_count": null,
   "id": "adf33843",
   "metadata": {},
   "outputs": [],
   "source": [
    "y_pred = model.predict(X_test)"
   ]
  },
  {
   "cell_type": "code",
   "execution_count": null,
   "id": "797d71ca",
   "metadata": {},
   "outputs": [],
   "source": [
    "from sklearn.metrics import mean_squared_error, mean_absolute_error, r2_score, classification_report\n",
    "\n",
    "mse = mean_squared_error(y_test, y_pred)\n",
    "mae = mean_absolute_error(y_test, y_pred)\n",
    "rmse = mse ** 0.5\n",
    "r2 = r2_score(y_test, y_pred)\n",
    "\n",
    "print('Mean Squared Error (MSE):', mse)\n",
    "print('Mean Absolute Error (MAE):', mae)\n",
    "print('Root Mean Squared Error (RMSE):', rmse)\n",
    "print('R-squared (R2):', r2)"
   ]
  },
  {
   "cell_type": "code",
   "execution_count": null,
   "id": "70af7c62",
   "metadata": {},
   "outputs": [],
   "source": [
    "y_pred"
   ]
  },
  {
   "cell_type": "code",
   "execution_count": null,
   "id": "c5ec7775",
   "metadata": {},
   "outputs": [],
   "source": [
    "model.predict([[2022,15,1200,50000]])"
   ]
  },
  {
   "cell_type": "code",
   "execution_count": null,
   "id": "c87dc83a",
   "metadata": {},
   "outputs": [],
   "source": [
    "model.predict([[2019,14,1600,60000]])"
   ]
  },
  {
   "cell_type": "code",
   "execution_count": null,
   "id": "42c52abb",
   "metadata": {},
   "outputs": [],
   "source": [
    "model.predict([[2005,11,1400,80000]])"
   ]
  },
  {
   "cell_type": "code",
   "execution_count": null,
   "id": "032799de",
   "metadata": {},
   "outputs": [],
   "source": [
    "model.predict([[1999,10,500,80000]])"
   ]
  },
  {
   "cell_type": "code",
   "execution_count": null,
   "id": "078c4ba0",
   "metadata": {},
   "outputs": [],
   "source": []
  },
  {
   "cell_type": "code",
   "execution_count": null,
   "id": "9b301755",
   "metadata": {},
   "outputs": [],
   "source": []
  },
  {
   "cell_type": "code",
   "execution_count": null,
   "id": "728391bc",
   "metadata": {},
   "outputs": [],
   "source": []
  },
  {
   "cell_type": "code",
   "execution_count": null,
   "id": "f86e9c89",
   "metadata": {},
   "outputs": [],
   "source": []
  },
  {
   "cell_type": "code",
   "execution_count": null,
   "id": "13f3b367",
   "metadata": {},
   "outputs": [],
   "source": []
  },
  {
   "cell_type": "code",
   "execution_count": null,
   "id": "171b4612",
   "metadata": {},
   "outputs": [],
   "source": []
  },
  {
   "cell_type": "code",
   "execution_count": null,
   "id": "25d12e54",
   "metadata": {},
   "outputs": [],
   "source": []
  }
 ],
 "metadata": {
  "kernelspec": {
   "display_name": "Python 3 (ipykernel)",
   "language": "python",
   "name": "python3"
  },
  "language_info": {
   "codemirror_mode": {
    "name": "ipython",
    "version": 3
   },
   "file_extension": ".py",
   "mimetype": "text/x-python",
   "name": "python",
   "nbconvert_exporter": "python",
   "pygments_lexer": "ipython3",
   "version": "3.10.11"
  }
 },
 "nbformat": 4,
 "nbformat_minor": 5
}
